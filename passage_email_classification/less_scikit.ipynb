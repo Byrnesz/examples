{
 "metadata": {
  "name": "",
  "signature": "sha256:0fd546eb20191fa5c2efc4bdd2a0120c98cc99238b3646c74a0ef635559f3568"
 },
 "nbformat": 3,
 "nbformat_minor": 0,
 "worksheets": [
  {
   "cells": [
    {
     "cell_type": "code",
     "collapsed": false,
     "input": [
      "import pandas as pd\n",
      "import numpy as np\n",
      "from sklearn import cross_validation\n",
      "from sklearn.feature_extraction.text import CountVectorizer\n",
      "from passage.preprocessing import Tokenizer\n",
      "from passage.layers import Embedding, GatedRecurrent, Dense\n",
      "from passage.models import RNN\n",
      "from passage.utils import save, load"
     ],
     "language": "python",
     "metadata": {},
     "outputs": [],
     "prompt_number": 1
    },
    {
     "cell_type": "code",
     "collapsed": false,
     "input": [
      "tokenizer = Tokenizer()"
     ],
     "language": "python",
     "metadata": {},
     "outputs": [],
     "prompt_number": 2
    },
    {
     "cell_type": "code",
     "collapsed": false,
     "input": [
      "gid = pd.read_json('email.json')\n",
      "mom = pd.read_json('mom.json')"
     ],
     "language": "python",
     "metadata": {},
     "outputs": [],
     "prompt_number": 3
    },
    {
     "cell_type": "code",
     "collapsed": false,
     "input": [
      "g_emails = []\n",
      "m_emails = []\n",
      "for email in gid.body:\n",
      "    if email != []:\n",
      "        g_emails.append({'gids': True, 'body': email['content']})\n",
      "for email in mom.body:\n",
      "    if email != []:\n",
      "        m_emails.append({'gids': False, 'body': email['content']})\n",
      "df = pd.DataFrame.from_records(g_emails + m_emails)"
     ],
     "language": "python",
     "metadata": {},
     "outputs": [],
     "prompt_number": 4
    },
    {
     "cell_type": "code",
     "collapsed": false,
     "input": [
      "vectorizer = CountVectorizer(min_df=5, max_df=.3, ngram_range=(1,2))\n",
      "X = vectorizer.fit_transform(df.body)\n",
      "X = X.tocsc()\n",
      "Y = df.gids.values.astype(np.int)"
     ],
     "language": "python",
     "metadata": {},
     "outputs": [],
     "prompt_number": 5
    },
    {
     "cell_type": "code",
     "collapsed": false,
     "input": [],
     "language": "python",
     "metadata": {},
     "outputs": []
    }
   ],
   "metadata": {}
  }
 ]
}