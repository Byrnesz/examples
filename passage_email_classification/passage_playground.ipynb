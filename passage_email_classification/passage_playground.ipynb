{
 "metadata": {
  "name": "",
  "signature": "sha256:cd31b6a1555e672d7c87f487361b492a75e9dff4ef3353e1cadb103a2f78afa8"
 },
 "nbformat": 3,
 "nbformat_minor": 0,
 "worksheets": [
  {
   "cells": [
    {
     "cell_type": "code",
     "collapsed": false,
     "input": [
      "import pandas as pd\n",
      "import numpy as np\n",
      "from sklearn import cross_validation\n",
      "from sklearn.feature_extraction.text import CountVectorizer\n",
      "from passage.preprocessing import Tokenizer\n",
      "from passage.layers import Embedding, GatedRecurrent, Dense\n",
      "from passage.models import RNN\n",
      "from passage.utils import save, load"
     ],
     "language": "python",
     "metadata": {},
     "outputs": [],
     "prompt_number": 1
    },
    {
     "cell_type": "code",
     "collapsed": false,
     "input": [
      "tokenizer = Tokenizer()"
     ],
     "language": "python",
     "metadata": {},
     "outputs": [],
     "prompt_number": 2
    },
    {
     "cell_type": "code",
     "collapsed": false,
     "input": [
      "gid = pd.read_json('../email.json')\n",
      "mom = pd.read_json('../mom.json')"
     ],
     "language": "python",
     "metadata": {},
     "outputs": [],
     "prompt_number": 11
    },
    {
     "cell_type": "code",
     "collapsed": false,
     "input": [
      "g_emails = []\n",
      "m_emails = []\n",
      "for email in gid.body:\n",
      "    if email != []:\n",
      "        g_emails.append({'gids': True, 'body': email['content']})\n",
      "for email in mom.body:\n",
      "    if email != []:\n",
      "        m_emails.append({'gids': False, 'body': email['content']})\n",
      "df = pd.DataFrame.from_records(g_emails + m_emails)"
     ],
     "language": "python",
     "metadata": {},
     "outputs": [],
     "prompt_number": 12
    },
    {
     "cell_type": "code",
     "collapsed": false,
     "input": [
      "vectorizer = CountVectorizer(min_df=5, max_df=.3, ngram_range=(1,2))\n",
      "X = vectorizer.fit_transform(df.body)\n",
      "X = X.tocsc()\n",
      "Y = df.gids.values.astype(np.int)"
     ],
     "language": "python",
     "metadata": {},
     "outputs": [],
     "prompt_number": 20
    },
    {
     "cell_type": "code",
     "collapsed": false,
     "input": [
      "X_train, X_test, Y_train, Y_test = cross_validation.train_test_split(X,Y)"
     ],
     "language": "python",
     "metadata": {},
     "outputs": [],
     "prompt_number": 21
    },
    {
     "cell_type": "code",
     "collapsed": false,
     "input": [
      "X_train"
     ],
     "language": "python",
     "metadata": {},
     "outputs": [
      {
       "metadata": {},
       "output_type": "pyout",
       "prompt_number": 22,
       "text": [
        "<5717x57048 sparse matrix of type '<type 'numpy.int64'>'\n",
        "\twith 1171494 stored elements in Compressed Sparse Row format>"
       ]
      }
     ],
     "prompt_number": 22
    },
    {
     "cell_type": "code",
     "collapsed": false,
     "input": [
      "train_tokens = tokenizer.fit_transform(df.body[0:6000])\n",
      "\n",
      "layers = [\n",
      "    Embedding(size=128, n_features=tokenizer.n_features),\n",
      "    GatedRecurrent(size=128, ),\n",
      "    Dense(size=1, activation='sigmoid')\n",
      "]\n",
      "\n",
      "model = RNN(layers=layers, cost='BinaryCrossEntropy')\n",
      "model.fit(train_tokens, df.gids[0:6000])\n",
      "\n",
      "model.predict(tokenizer.transform(df.body[6001::-1]))\n",
      "save(model, 'save_test.pkl')\n",
      "model = load('save_test.pkl')"
     ],
     "language": "python",
     "metadata": {},
     "outputs": [
      {
       "output_type": "stream",
       "stream": "stdout",
       "text": [
        "\r",
        "Epoch 0 Seen 64 samples Avg cost 0.6863 Time left 2 seconds"
       ]
      },
      {
       "output_type": "stream",
       "stream": "stdout",
       "text": [
        "\r",
        "Epoch 0 Seen 128 samples Avg cost 0.6916 Time left 5 seconds"
       ]
      },
      {
       "output_type": "stream",
       "stream": "stdout",
       "text": [
        "\r",
        "Epoch 0 Seen 192 samples Avg cost 0.6951 Time left 22 seconds"
       ]
      },
      {
       "output_type": "stream",
       "stream": "stdout",
       "text": [
        "\r",
        "Epoch 0 Seen 256 samples Avg cost 0.6943 Time left 49 seconds"
       ]
      },
      {
       "output_type": "stream",
       "stream": "stdout",
       "text": [
        "\r",
        "Epoch 0 Seen 320 samples Avg cost 0.6940 Time left 46 seconds"
       ]
      },
      {
       "output_type": "stream",
       "stream": "stdout",
       "text": [
        "\r",
        "Epoch 0 Seen 384 samples Avg cost 0.6928 Time left 85 seconds"
       ]
      },
      {
       "output_type": "stream",
       "stream": "stdout",
       "text": [
        "\r",
        "Epoch 0 Seen 448 samples Avg cost 0.6877 Time left 80 seconds"
       ]
      },
      {
       "output_type": "stream",
       "stream": "stdout",
       "text": [
        "\r",
        "Epoch 0 Seen 512 samples Avg cost 0.6885 Time left 71 seconds"
       ]
      },
      {
       "output_type": "stream",
       "stream": "stdout",
       "text": [
        "\r",
        "Epoch 0 Seen 576 samples Avg cost 0.6880 Time left 71 seconds"
       ]
      },
      {
       "output_type": "stream",
       "stream": "stdout",
       "text": [
        "\r",
        "Epoch 0 Seen 640 samples Avg cost 0.6887 Time left 66 seconds"
       ]
      },
      {
       "output_type": "stream",
       "stream": "stdout",
       "text": [
        "\r",
        "Epoch 0 Seen 704 samples Avg cost 0.6841 Time left 66 seconds"
       ]
      },
      {
       "output_type": "stream",
       "stream": "stdout",
       "text": [
        "\r",
        "Epoch 0 Seen 768 samples Avg cost 0.6825 Time left 62 seconds"
       ]
      },
      {
       "output_type": "stream",
       "stream": "stdout",
       "text": [
        "\r",
        "Epoch 0 Seen 832 samples Avg cost 0.6829 Time left 68 seconds"
       ]
      },
      {
       "output_type": "stream",
       "stream": "stdout",
       "text": [
        "\r",
        "Epoch 0 Seen 896 samples Avg cost 0.6794 Time left 69 seconds"
       ]
      },
      {
       "output_type": "stream",
       "stream": "stdout",
       "text": [
        "\r",
        "Epoch 0 Seen 960 samples Avg cost 0.6760 Time left 66 seconds"
       ]
      },
      {
       "output_type": "stream",
       "stream": "stdout",
       "text": [
        "\r",
        "Epoch 0 Seen 1024 samples Avg cost 0.6737 Time left 69 seconds"
       ]
      },
      {
       "output_type": "stream",
       "stream": "stdout",
       "text": [
        "\r",
        "Epoch 0 Seen 1088 samples Avg cost 0.6708 Time left 71 seconds"
       ]
      },
      {
       "output_type": "stream",
       "stream": "stdout",
       "text": [
        "\r",
        "Epoch 0 Seen 1152 samples Avg cost 0.6691 Time left 77 seconds"
       ]
      },
      {
       "output_type": "stream",
       "stream": "stdout",
       "text": [
        "\r",
        "Epoch 0 Seen 1216 samples Avg cost 0.6651 Time left 74 seconds"
       ]
      },
      {
       "output_type": "stream",
       "stream": "stdout",
       "text": [
        "\r",
        "Epoch 0 Seen 1280 samples Avg cost 0.6675 Time left 70 seconds"
       ]
      },
      {
       "output_type": "stream",
       "stream": "stdout",
       "text": [
        "\r",
        "Epoch 0 Seen 1344 samples Avg cost 0.6597 Time left 70 seconds"
       ]
      },
      {
       "output_type": "stream",
       "stream": "stdout",
       "text": [
        "\r",
        "Epoch 0 Seen 1408 samples Avg cost 0.6570 Time left 71 seconds"
       ]
      },
      {
       "output_type": "stream",
       "stream": "stdout",
       "text": [
        "\r",
        "Epoch 0 Seen 1472 samples Avg cost 0.6554 Time left 68 seconds"
       ]
      },
      {
       "output_type": "stream",
       "stream": "stdout",
       "text": [
        "\r",
        "Epoch 0 Seen 1536 samples Avg cost 0.6541 Time left 71 seconds"
       ]
      },
      {
       "output_type": "stream",
       "stream": "stdout",
       "text": [
        "\r",
        "Epoch 0 Seen 1600 samples Avg cost 0.6524 Time left 68 seconds"
       ]
      },
      {
       "output_type": "stream",
       "stream": "stdout",
       "text": [
        "\r",
        "Epoch 0 Seen 1664 samples Avg cost 0.6484 Time left 68 seconds"
       ]
      },
      {
       "output_type": "stream",
       "stream": "stdout",
       "text": [
        "\r",
        "Epoch 0 Seen 1728 samples Avg cost 0.6471 Time left 64 seconds"
       ]
      },
      {
       "output_type": "stream",
       "stream": "stdout",
       "text": [
        "\r",
        "Epoch 0 Seen 1792 samples Avg cost 0.6481 Time left 61 seconds"
       ]
      },
      {
       "output_type": "stream",
       "stream": "stdout",
       "text": [
        "\r",
        "Epoch 0 Seen 1856 samples Avg cost 0.6456 Time left 60 seconds"
       ]
      },
      {
       "output_type": "stream",
       "stream": "stdout",
       "text": [
        "\r",
        "Epoch 0 Seen 1920 samples Avg cost 0.6428 Time left 61 seconds"
       ]
      },
      {
       "output_type": "stream",
       "stream": "stdout",
       "text": [
        "\r",
        "Epoch 0 Seen 1984 samples Avg cost 0.6403 Time left 59 seconds"
       ]
      },
      {
       "output_type": "stream",
       "stream": "stdout",
       "text": [
        "\r",
        "Epoch 0 Seen 2048 samples Avg cost 0.6368 Time left 62 seconds"
       ]
      },
      {
       "output_type": "stream",
       "stream": "stdout",
       "text": [
        "\r",
        "Epoch 0 Seen 2112 samples Avg cost 0.6320 Time left 60 seconds"
       ]
      },
      {
       "output_type": "stream",
       "stream": "stdout",
       "text": [
        "\r",
        "Epoch 0 Seen 2176 samples Avg cost 0.6309 Time left 57 seconds"
       ]
      },
      {
       "output_type": "stream",
       "stream": "stdout",
       "text": [
        "\r",
        "Epoch 0 Seen 2240 samples Avg cost 0.6277 Time left 55 seconds"
       ]
      },
      {
       "output_type": "stream",
       "stream": "stdout",
       "text": [
        "\r",
        "Epoch 0 Seen 2304 samples Avg cost 0.6241 Time left 53 seconds"
       ]
      },
      {
       "output_type": "stream",
       "stream": "stdout",
       "text": [
        "\r",
        "Epoch 0 Seen 2368 samples Avg cost 0.6211 Time left 53 seconds"
       ]
      },
      {
       "output_type": "stream",
       "stream": "stdout",
       "text": [
        "\r",
        "Epoch 0 Seen 2432 samples Avg cost 0.6183 Time left 52 seconds"
       ]
      },
      {
       "output_type": "stream",
       "stream": "stdout",
       "text": [
        "\r",
        "Epoch 0 Seen 2496 samples Avg cost 0.6208 Time left 49 seconds"
       ]
      },
      {
       "output_type": "stream",
       "stream": "stdout",
       "text": [
        "\r",
        "Epoch 0 Seen 2560 samples Avg cost 0.6195 Time left 47 seconds"
       ]
      },
      {
       "output_type": "stream",
       "stream": "stdout",
       "text": [
        "\r",
        "Epoch 0 Seen 2624 samples Avg cost 0.6169 Time left 46 seconds"
       ]
      },
      {
       "output_type": "stream",
       "stream": "stdout",
       "text": [
        "\r",
        "Epoch 0 Seen 2688 samples Avg cost 0.6091 Time left 44 seconds"
       ]
      },
      {
       "output_type": "stream",
       "stream": "stdout",
       "text": [
        "\r",
        "Epoch 0 Seen 2752 samples Avg cost 0.6065 Time left 43 seconds"
       ]
      },
      {
       "output_type": "stream",
       "stream": "stdout",
       "text": [
        "\r",
        "Epoch 0 Seen 2816 samples Avg cost 0.6051 Time left 42 seconds"
       ]
      },
      {
       "output_type": "stream",
       "stream": "stdout",
       "text": [
        "\r",
        "Epoch 0 Seen 2880 samples Avg cost 0.6006 Time left 40 seconds"
       ]
      },
      {
       "output_type": "stream",
       "stream": "stdout",
       "text": [
        "\r",
        "Epoch 0 Seen 2944 samples Avg cost 0.6019 Time left 38 seconds"
       ]
      },
      {
       "output_type": "stream",
       "stream": "stdout",
       "text": [
        "\r",
        "Epoch 0 Seen 3008 samples Avg cost 0.6002 Time left 38 seconds"
       ]
      },
      {
       "output_type": "stream",
       "stream": "stdout",
       "text": [
        "\r",
        "Epoch 0 Seen 3072 samples Avg cost 0.5964 Time left 37 seconds"
       ]
      },
      {
       "output_type": "stream",
       "stream": "stdout",
       "text": [
        "\r",
        "Epoch 0 Seen 3136 samples Avg cost 0.5903 Time left 36 seconds"
       ]
      },
      {
       "output_type": "stream",
       "stream": "stdout",
       "text": [
        "\r",
        "Epoch 0 Seen 3200 samples Avg cost 0.5864 Time left 35 seconds"
       ]
      },
      {
       "output_type": "stream",
       "stream": "stdout",
       "text": [
        "\r",
        "Epoch 0 Seen 3264 samples Avg cost 0.5804 Time left 34 seconds"
       ]
      },
      {
       "output_type": "stream",
       "stream": "stdout",
       "text": [
        "\r",
        "Epoch 0 Seen 3328 samples Avg cost 0.5784 Time left 34 seconds"
       ]
      },
      {
       "output_type": "stream",
       "stream": "stdout",
       "text": [
        "\r",
        "Epoch 0 Seen 3392 samples Avg cost 0.5757 Time left 32 seconds"
       ]
      },
      {
       "output_type": "stream",
       "stream": "stdout",
       "text": [
        "\r",
        "Epoch 0 Seen 3456 samples Avg cost 0.5722 Time left 31 seconds"
       ]
      },
      {
       "output_type": "stream",
       "stream": "stdout",
       "text": [
        "\r",
        "Epoch 0 Seen 3520 samples Avg cost 0.5710 Time left 29 seconds"
       ]
      },
      {
       "output_type": "stream",
       "stream": "stdout",
       "text": [
        "\r",
        "Epoch 0 Seen 3584 samples Avg cost 0.5737 Time left 27 seconds"
       ]
      },
      {
       "output_type": "stream",
       "stream": "stdout",
       "text": [
        "\r",
        "Epoch 0 Seen 3648 samples Avg cost 0.5785 Time left 26 seconds"
       ]
      },
      {
       "output_type": "stream",
       "stream": "stdout",
       "text": [
        "\r",
        "Epoch 0 Seen 3712 samples Avg cost 0.5776 Time left 24 seconds"
       ]
      },
      {
       "output_type": "stream",
       "stream": "stdout",
       "text": [
        "\r",
        "Epoch 0 Seen 3776 samples Avg cost 0.5755 Time left 22 seconds"
       ]
      },
      {
       "output_type": "stream",
       "stream": "stdout",
       "text": [
        "\r",
        "Epoch 0 Seen 3840 samples Avg cost 0.5741 Time left 22 seconds"
       ]
      },
      {
       "output_type": "stream",
       "stream": "stdout",
       "text": [
        "\r",
        "Epoch 0 Seen 3904 samples Avg cost 0.5704 Time left 21 seconds"
       ]
      },
      {
       "output_type": "stream",
       "stream": "stdout",
       "text": [
        "\r",
        "Epoch 0 Seen 3968 samples Avg cost 0.5672 Time left 20 seconds"
       ]
      },
      {
       "output_type": "stream",
       "stream": "stdout",
       "text": [
        "\r",
        "Epoch 0 Seen 4032 samples Avg cost 0.5695 Time left 18 seconds"
       ]
      },
      {
       "output_type": "stream",
       "stream": "stdout",
       "text": [
        "\r",
        "Epoch 0 Seen 4096 samples Avg cost 0.5658 Time left 17 seconds"
       ]
      },
      {
       "output_type": "stream",
       "stream": "stdout",
       "text": [
        "\r",
        "Epoch 0 Seen 4160 samples Avg cost 0.5637 Time left 16 seconds"
       ]
      },
      {
       "output_type": "stream",
       "stream": "stdout",
       "text": [
        "\r",
        "Epoch 0 Seen 4224 samples Avg cost 0.5622 Time left 14 seconds"
       ]
      },
      {
       "output_type": "stream",
       "stream": "stdout",
       "text": [
        "\r",
        "Epoch 0 Seen 4288 samples Avg cost 0.5622 Time left 13 seconds"
       ]
      },
      {
       "output_type": "stream",
       "stream": "stdout",
       "text": [
        "\r",
        "Epoch 0 Seen 4352 samples Avg cost 0.5579 Time left 12 seconds"
       ]
      },
      {
       "output_type": "stream",
       "stream": "stdout",
       "text": [
        "\r",
        "Epoch 0 Seen 4416 samples Avg cost 0.5565 Time left 10 seconds"
       ]
      },
      {
       "output_type": "stream",
       "stream": "stdout",
       "text": [
        "\r",
        "Epoch 0 Seen 4460 samples Avg cost 0.5535 Time left 10 seconds"
       ]
      },
      {
       "output_type": "stream",
       "stream": "stdout",
       "text": [
        "\r",
        "Epoch 0 Seen 4524 samples Avg cost 0.5543 Time left 8 seconds"
       ]
      },
      {
       "output_type": "stream",
       "stream": "stdout",
       "text": [
        "\r",
        "Epoch 0 Seen 4588 samples Avg cost 0.5504 Time left 7 seconds"
       ]
      },
      {
       "output_type": "stream",
       "stream": "stdout",
       "text": [
        "\r",
        "Epoch 0 Seen 4652 samples Avg cost 0.5449 Time left 6 seconds"
       ]
      },
      {
       "output_type": "stream",
       "stream": "stdout",
       "text": [
        "\r",
        "Epoch 0 Seen 4716 samples Avg cost 0.5430 Time left 4 seconds"
       ]
      },
      {
       "output_type": "stream",
       "stream": "stdout",
       "text": [
        "\r",
        "Epoch 0 Seen 4780 samples Avg cost 0.5390 Time left 3 seconds"
       ]
      },
      {
       "output_type": "stream",
       "stream": "stdout",
       "text": [
        "\r",
        "Epoch 0 Seen 4844 samples Avg cost 0.5348 Time left 2 seconds"
       ]
      },
      {
       "output_type": "stream",
       "stream": "stdout",
       "text": [
        "\r",
        "Epoch 0 Seen 4908 samples Avg cost 0.5323 Time left 1 seconds"
       ]
      },
      {
       "output_type": "stream",
       "stream": "stdout",
       "text": [
        "\r",
        "Epoch 0 Seen 4972 samples Avg cost 0.5293 Time left 98 seconds"
       ]
      },
      {
       "output_type": "stream",
       "stream": "stdout",
       "text": [
        "\r",
        "Epoch 0 Seen 4972 samples Avg cost 0.5293 Time elapsed 98 seconds"
       ]
      },
      {
       "output_type": "stream",
       "stream": "stdout",
       "text": [
        "\n"
       ]
      }
     ],
     "prompt_number": 28
    },
    {
     "cell_type": "markdown",
     "metadata": {},
     "source": [
      "#notes\n",
      "1. show use of train test split from sklearn\n",
      "2. make it obvious what format text should be entering in as\n",
      "    (sklearn documentation)\n",
      "3. cross validation\n",
      "4. RNNs overfit, set epoch to 5 (include content on theory, collaborate w/ Alec)\n",
      "5. make possible parameters clear for ipython notebook"
     ]
    },
    {
     "cell_type": "code",
     "collapsed": false,
     "input": [
      "pd.read_pickle('save_test.pkl')"
     ],
     "language": "python",
     "metadata": {},
     "outputs": [
      {
       "metadata": {},
       "output_type": "pyout",
       "prompt_number": 29,
       "text": [
        "{'config': {'Y': <TensorType(float64, matrix)>,\n",
        "  'cost': 'BinaryCrossEntropy',\n",
        "  'iterator': 'SortedPadded',\n",
        "  'layers': [{'config': {'init': 'uniform',\n",
        "     'n_features': 6918,\n",
        "     'size': 128,\n",
        "     'weights': [array([[ 0.01686764, -0.01968859,  0.03013202, ...,  0.03623649,\n",
        "              -0.03413073,  0.05684256],\n",
        "             [ 0.00370525, -0.03717626,  0.00410098, ...,  0.00499599,\n",
        "              -0.02000819,  0.01272026],\n",
        "             [-0.01105731,  0.04468521, -0.03367957, ..., -0.05135457,\n",
        "              -0.02153085,  0.04188622],\n",
        "             ..., \n",
        "             [ 0.05026463, -0.0364652 , -0.02957232, ...,  0.04266022,\n",
        "              -0.00472392,  0.00462929],\n",
        "             [ 0.00878663, -0.02268058, -0.05128311, ...,  0.00357609,\n",
        "               0.03876884, -0.01058514],\n",
        "             [-0.01089298, -0.00184126,  0.03766413, ..., -0.0134231 ,\n",
        "              -0.00057643,  0.01170361]])]},\n",
        "    'layer': 'Embedding'},\n",
        "   {'config': {'activation': 'tanh',\n",
        "     'gate_activation': 'steeper_sigmoid',\n",
        "     'init': 'orthogonal',\n",
        "     'p_drop': 0.0,\n",
        "     'seq_output': False,\n",
        "     'size': 128,\n",
        "     'truncate_gradient': -1,\n",
        "     'weights': [array([[  1.28309210e-02,  -2.19600262e-03,  -1.41993873e-02,\n",
        "                6.33051441e-03,   1.22364127e-02,  -1.63306220e-02,\n",
        "               -7.08042812e-03,  -1.28379403e-02,  -1.35249425e-02,\n",
        "                9.52961927e-03,   1.77772558e-02,  -1.35888512e-02,\n",
        "                1.61081613e-02,   1.40943546e-02,  -1.17753188e-02,\n",
        "                1.53730623e-02,   1.54854059e-02,   1.15525451e-02,\n",
        "               -1.52150150e-02,  -1.18136095e-02,   2.07665257e-02,\n",
        "               -5.55363126e-03,   1.31539091e-02,  -1.05559500e-02,\n",
        "               -1.83787847e-02,   9.32933852e-03,  -1.46818952e-02,\n",
        "               -2.08687349e-02,   1.79559011e-02,   1.47483336e-02,\n",
        "                1.38267537e-02,  -1.46312587e-02,   1.88497164e-02,\n",
        "               -1.74897100e-02,  -1.39347223e-02,  -1.16737536e-02,\n",
        "               -1.89125381e-02,  -1.55223107e-02,  -1.50233689e-02,\n",
        "                1.75353476e-02,  -2.19465977e-02,  -3.76215081e-03,\n",
        "                1.57273053e-02,  -1.52153184e-02,   1.65223576e-02,\n",
        "               -1.31550968e-02,   1.35014066e-02,  -1.11276624e-02,\n",
        "                1.57930589e-02,   1.54145617e-02,   1.38007460e-02,\n",
        "               -1.64102129e-02,  -6.02275405e-03,   2.62258099e-03,\n",
        "                1.55613172e-02,   1.67724569e-02,   1.18666836e-02,\n",
        "                1.48603942e-02,  -1.40314576e-02,   2.01224800e-02,\n",
        "                1.58907280e-02,   1.52393231e-02,  -1.14046392e-02,\n",
        "               -8.04961397e-03,   6.36295654e-03,   6.33595351e-03,\n",
        "               -8.64660161e-03,  -1.19654559e-02,  -6.33746850e-03,\n",
        "               -1.31228393e-02,  -1.30208940e-02,  -2.20704037e-02,\n",
        "               -2.39677194e-02,   1.43272522e-02,   1.48282407e-02,\n",
        "               -9.48012857e-03,  -1.31985879e-02,  -8.57639687e-05,\n",
        "                1.37804374e-02,  -1.20086963e-02,  -1.49621147e-02,\n",
        "                1.42901889e-02,   1.52416648e-03,   1.54702581e-02,\n",
        "                1.14939594e-02,  -1.97723292e-03,  -1.71383669e-02,\n",
        "                1.60469367e-02,  -1.26816212e-02,  -1.65948095e-02,\n",
        "               -5.63696517e-03,  -1.37322903e-02,  -1.70816665e-02,\n",
        "                1.45942754e-02,   1.20738624e-02,  -1.07764820e-02,\n",
        "                9.12384496e-05,  -1.72042113e-02,   1.22019753e-02,\n",
        "                1.45337086e-02,  -1.18165827e-02,   1.60456349e-02,\n",
        "                7.25325091e-03,   3.69649531e-03,  -1.66023367e-02,\n",
        "                1.11773427e-02,   4.79338289e-03,   1.51912576e-02,\n",
        "               -9.31403400e-03,   1.50212978e-02,  -1.69541027e-02,\n",
        "                1.45879212e-02,   1.40438164e-02,  -1.78617162e-03,\n",
        "               -1.41820210e-02,   1.60794759e-02,   3.10690358e-03,\n",
        "                1.61742087e-02,   1.02853049e-03,  -1.10675891e-02,\n",
        "               -1.23984262e-02,  -4.85126872e-03,   2.41086126e-04,\n",
        "               -1.70633112e-02,  -2.30295319e-02,   1.99155401e-02,\n",
        "                2.47574628e-03,   7.81863072e-04]]),\n",
        "      array([[ 0.03461439, -0.01916995, -0.15168805, ..., -0.07076703,\n",
        "              -0.05450815,  0.01328123],\n",
        "             [-0.00913815,  0.01380602,  0.1132031 , ..., -0.1352847 ,\n",
        "               0.13494574,  0.00160052],\n",
        "             [-0.02151194, -0.17995249, -0.06266174, ..., -0.04884189,\n",
        "               0.03319851, -0.07092558],\n",
        "             ..., \n",
        "             [ 0.07828902,  0.00232599,  0.07318153, ...,  0.17795549,\n",
        "               0.06475343,  0.07333692],\n",
        "             [ 0.04379095, -0.0176148 ,  0.03915872, ...,  0.03062993,\n",
        "               0.00910354,  0.06302398],\n",
        "             [-0.1160831 , -0.16119385,  0.08265643, ..., -0.00904649,\n",
        "               0.0466947 , -0.10744445]]),\n",
        "      array([[-0.02075424, -0.10866271, -0.13675415, ...,  0.07661231,\n",
        "              -0.1863245 ,  0.13467255],\n",
        "             [-0.16042703, -0.13012987, -0.02792973, ...,  0.06114345,\n",
        "              -0.14510636,  0.07121328],\n",
        "             [ 0.06523027, -0.13140472,  0.05330676, ..., -0.1496251 ,\n",
        "               0.02465701,  0.12921975],\n",
        "             ..., \n",
        "             [-0.11298082,  0.01629975, -0.01715925, ..., -0.12100842,\n",
        "              -0.10570722,  0.07641555],\n",
        "             [ 0.00805258,  0.12042564, -0.15520467, ...,  0.15990582,\n",
        "              -0.13852496, -0.03561978],\n",
        "             [-0.17577195, -0.07200936,  0.04002975, ..., -0.0686183 ,\n",
        "              -0.11712409,  0.06139107]]),\n",
        "      array([[-0.13117042,  0.03028766,  0.0311936 , ...,  0.02980139,\n",
        "               0.0588328 , -0.03575204],\n",
        "             [ 0.04493622,  0.03062834,  0.07354147, ..., -0.08922059,\n",
        "               0.10656012, -0.09298049],\n",
        "             [ 0.01069427,  0.04785488,  0.27820639, ..., -0.00751095,\n",
        "               0.02553255, -0.09596022],\n",
        "             ..., \n",
        "             [ 0.00038434,  0.12726626,  0.29032918, ..., -0.03683799,\n",
        "               0.12905604, -0.00143958],\n",
        "             [ 0.19054054, -0.20558644, -0.00788696, ..., -0.0069879 ,\n",
        "              -0.04335644, -0.20629515],\n",
        "             [-0.13973276,  0.06250661,  0.18136599, ..., -0.09712778,\n",
        "               0.01514239,  0.18869332]]),\n",
        "      array([[ 0.12806562, -0.09019337, -0.00829997, ..., -0.06419189,\n",
        "               0.09320187,  0.00141819],\n",
        "             [-0.09359545, -0.06812882, -0.09436618, ..., -0.06430185,\n",
        "              -0.1558835 , -0.02766531],\n",
        "             [-0.00283864, -0.09483784,  0.08744437, ..., -0.1568158 ,\n",
        "               0.00044858, -0.06777934],\n",
        "             ..., \n",
        "             [-0.21868009, -0.09609157,  0.10401854, ...,  0.01603729,\n",
        "               0.00914492,  0.01900557],\n",
        "             [ 0.06943614,  0.04770753, -0.00536923, ...,  0.03924812,\n",
        "              -0.07402817, -0.00266904],\n",
        "             [ 0.00257453,  0.0458236 , -0.00783975, ...,  0.10707732,\n",
        "               0.13658559,  0.06713545]]),\n",
        "      array([[ 0.04066351, -0.00624509,  0.04001567, ...,  0.09032422,\n",
        "               0.25687204, -0.12115034],\n",
        "             [ 0.08622963,  0.06797064, -0.14584215, ..., -0.12393369,\n",
        "              -0.02758905, -0.05364153],\n",
        "             [-0.03976337, -0.00142079,  0.07388057, ..., -0.05599979,\n",
        "               0.09681559,  0.07257882],\n",
        "             ..., \n",
        "             [-0.06082514, -0.02380818, -0.09270543, ..., -0.18575676,\n",
        "               0.06554444, -0.04967301],\n",
        "             [-0.07744212,  0.06376154,  0.09517896, ...,  0.07816321,\n",
        "               0.04025522,  0.07103662],\n",
        "             [-0.05555377,  0.14416787, -0.03737021, ..., -0.07371299,\n",
        "               0.22508692, -0.11709314]]),\n",
        "      array([[-0.02596066, -0.03850486,  0.04266783, ...,  0.07519053,\n",
        "               0.00181711,  0.00932842],\n",
        "             [-0.10093103, -0.0369389 , -0.06966178, ...,  0.13125159,\n",
        "              -0.00591111,  0.04870112],\n",
        "             [ 0.07799011,  0.18015223, -0.06820827, ..., -0.10950975,\n",
        "              -0.00895554, -0.11750593],\n",
        "             ..., \n",
        "             [ 0.17532662,  0.019762  ,  0.12004082, ...,  0.10200285,\n",
        "               0.02080026, -0.09735325],\n",
        "             [-0.03322133, -0.1280112 ,  0.14020552, ...,  0.0168154 ,\n",
        "               0.10516792, -0.15115673],\n",
        "             [-0.01652409,  0.03827672, -0.03447614, ...,  0.02438461,\n",
        "              -0.11663872,  0.02555038]]),\n",
        "      array([-0.03217114, -0.03602921,  0.01623128, -0.02096512,  0.00092725,\n",
        "             -0.02538793, -0.0278246 ,  0.0167571 ,  0.006827  , -0.00631939,\n",
        "             -0.02959024,  0.02104886, -0.02940039, -0.00495151, -0.00529184,\n",
        "              0.00234547, -0.01682738,  0.01003758,  0.02397575,  0.00036175,\n",
        "             -0.04696703,  0.00672126, -0.00337282, -0.00914251, -0.00896906,\n",
        "             -0.02299723, -0.0068569 , -0.00979021,  0.01750983,  0.00237578,\n",
        "              0.01697442,  0.00482727,  0.01225207, -0.02422531, -0.00584514,\n",
        "             -0.01413469,  0.00125721,  0.01191535, -0.01032298,  0.00825012,\n",
        "              0.00988284, -0.01485305, -0.01322744,  0.00884027,  0.00547252,\n",
        "              0.04402764, -0.01536399,  0.00512977, -0.03384736, -0.01580298,\n",
        "             -0.01714175,  0.00033322, -0.02093025,  0.01480212, -0.00049378,\n",
        "              0.01313045, -0.00497505,  0.01449364,  0.02905637, -0.02042114,\n",
        "             -0.01003376, -0.00672991,  0.02451255,  0.01956501, -0.00836969,\n",
        "             -0.00707126, -0.03333261, -0.04465583,  0.00771063,  0.0120476 ,\n",
        "             -0.00213517, -0.01780656, -0.02158472,  0.00682477,  0.01013104,\n",
        "              0.0436098 ,  0.02250695, -0.01259802,  0.01302863,  0.01945781,\n",
        "              0.00923609, -0.01098475, -0.02132678,  0.00884641, -0.00512865,\n",
        "             -0.00311752, -0.01547867, -0.01165816,  0.00748275, -0.01016683,\n",
        "             -0.00100516, -0.04819895, -0.01596884,  0.02762677, -0.02323951,\n",
        "             -0.00183663, -0.02943439, -0.02480884, -0.00026693, -0.00578751,\n",
        "             -0.00748384, -0.00873426, -0.00096715, -0.013108  , -0.03571828,\n",
        "             -0.00972863,  0.0057864 , -0.00491558, -0.02655024,  0.00263239,\n",
        "             -0.00758606, -0.03625719,  0.01929546,  0.01352725, -0.0024274 ,\n",
        "              0.01393995,  0.01307447, -0.00011499, -0.00427164,  0.01110447,\n",
        "              0.0084608 ,  0.00070391, -0.02864851, -0.02566572, -0.03027683,\n",
        "             -0.00288396,  0.02193875, -0.04175   ]),\n",
        "      array([  7.44944773e-03,  -2.16067166e-02,   5.87747688e-03,\n",
        "              -6.12420829e-03,  -8.48914637e-04,   9.89805677e-03,\n",
        "              -1.02991914e-04,   5.37238043e-04,   2.09377067e-03,\n",
        "              -5.91163684e-03,  -1.03826547e-02,   1.97369340e-03,\n",
        "               1.27418974e-02,   1.67107582e-02,   1.25982687e-03,\n",
        "               3.01475882e-03,  -9.95710327e-03,   2.07424794e-03,\n",
        "               1.04219677e-03,   2.25111425e-04,  -5.20678380e-03,\n",
        "              -1.31878103e-02,   7.27451081e-03,  -9.35434681e-03,\n",
        "               3.75521411e-02,   1.99964108e-03,   6.95744506e-03,\n",
        "               2.09179166e-02,   6.61588552e-03,   5.23559549e-03,\n",
        "              -3.06416641e-03,   3.44359061e-03,   1.54846760e-02,\n",
        "               2.36162921e-02,   2.86766592e-03,   8.86981033e-03,\n",
        "               3.34640533e-02,   7.63334090e-03,   1.06048095e-02,\n",
        "               2.57372991e-02,   6.17077300e-03,   8.51719984e-04,\n",
        "               5.64484926e-04,   9.56755637e-03,   8.33904304e-03,\n",
        "              -3.11098673e-03,   5.52377525e-03,   8.63694449e-04,\n",
        "               2.34836544e-02,   8.97059963e-03,   1.48689788e-02,\n",
        "              -2.40369612e-03,  -6.33778833e-03,  -4.35865671e-05,\n",
        "               1.14125840e-02,   9.02780985e-03,  -7.48979615e-03,\n",
        "               1.67187797e-03,   1.79586095e-03,   4.34849290e-03,\n",
        "               4.55782915e-03,   1.01373928e-02,  -5.69654863e-04,\n",
        "               1.46660292e-03,  -7.31178936e-03,  -7.24203900e-03,\n",
        "              -1.12662247e-02,  -3.21893466e-02,   3.30091886e-03,\n",
        "               1.74857120e-03,   6.14909797e-03,   2.58876711e-02,\n",
        "               4.92260666e-02,   2.85177352e-03,   7.55659398e-03,\n",
        "              -7.23041424e-03,   5.40762637e-03,  -1.03278846e-03,\n",
        "               6.62433742e-03,  -3.53102577e-03,   2.46886932e-03,\n",
        "               1.24345154e-03,   4.42304330e-04,   3.18525176e-02,\n",
        "              -1.91760109e-03,  -6.95783150e-03,   1.46552395e-02,\n",
        "               1.90846816e-02,  -4.60031996e-03,   8.42262931e-03,\n",
        "              -5.59005043e-04,  -1.18389471e-02,  -4.05480116e-03,\n",
        "               4.90232127e-03,  -2.27951486e-02,  -7.46706922e-03,\n",
        "               2.25514286e-02,   6.90431563e-03,   8.37457920e-03,\n",
        "               1.60815684e-03,  -8.08441894e-03,   3.74293719e-03,\n",
        "              -4.49700465e-03,  -1.73816261e-02,   1.29993401e-02,\n",
        "               5.34899849e-03,  -1.97840648e-02,   5.76309127e-03,\n",
        "              -3.28045994e-02,   1.07174117e-02,   1.26476641e-02,\n",
        "              -2.54646931e-03,   1.45567067e-02,  -1.03471873e-02,\n",
        "               3.34879910e-03,   3.06622526e-03,  -1.08366077e-02,\n",
        "               1.44628946e-02,   1.65004495e-03,   1.89039984e-03,\n",
        "               1.17084608e-02,   1.59835578e-03,   4.07557295e-03,\n",
        "              -2.82500177e-03,   7.63774278e-04,   5.23370107e-03,\n",
        "              -1.27756294e-02,   1.77749313e-03]),\n",
        "      array([  9.79927076e-03,  -2.30382170e-02,  -1.01553764e-02,\n",
        "               6.48352986e-03,  -4.54911626e-03,  -7.74054563e-03,\n",
        "              -5.83855830e-03,  -2.03826008e-03,  -8.28802898e-03,\n",
        "               1.79087726e-02,  -1.15026444e-02,  -7.17922323e-03,\n",
        "               8.48687238e-03,   9.01457550e-03,  -7.57186984e-03,\n",
        "               1.34655081e-02,  -1.50406218e-02,   1.95807224e-03,\n",
        "              -6.12622827e-03,  -8.08075909e-03,   1.65152806e-02,\n",
        "              -9.95184607e-03,   8.83142728e-03,  -1.07983036e-02,\n",
        "              -9.24670851e-03,  -2.64596657e-02,  -3.14546932e-03,\n",
        "              -5.85806109e-03,   2.14879640e-02,   4.01743347e-03,\n",
        "               7.82416695e-03,  -8.42204557e-03,   2.50253751e-02,\n",
        "              -8.10553982e-03,  -7.99627087e-03,  -2.54778642e-03,\n",
        "              -2.37912075e-02,  -6.79959552e-03,  -6.53841192e-03,\n",
        "               4.44447059e-03,  -1.03632801e-02,  -9.51955983e-04,\n",
        "               1.09835448e-02,  -7.60578893e-03,   7.23345435e-03,\n",
        "              -4.56312605e-03,   4.30804301e-05,  -7.45123069e-03,\n",
        "               5.87142798e-03,   7.77953958e-03,   7.64937504e-03,\n",
        "              -3.80794259e-03,  -6.67888984e-03,  -5.20513894e-03,\n",
        "               7.71165618e-03,   7.82708453e-03,  -9.11150057e-03,\n",
        "               5.46749676e-03,  -5.26455228e-03,   1.57727645e-03,\n",
        "               1.01549780e-02,   8.56947788e-03,  -7.39448202e-03,\n",
        "               3.65799674e-04,   7.90607343e-03,   6.34801816e-03,\n",
        "              -9.63668910e-03,   2.97387390e-02,  -6.07463038e-03,\n",
        "              -5.58687148e-03,  -1.18914279e-02,  -2.31036415e-02,\n",
        "               6.71459697e-03,   6.62025114e-03,   1.09978514e-03,\n",
        "               1.05275485e-02,  -4.04992635e-03,   1.08062108e-02,\n",
        "               5.91767019e-03,  -8.74474329e-03,  -7.39845612e-03,\n",
        "               8.11439564e-03,  -1.75448643e-02,   9.35584365e-03,\n",
        "               2.10722289e-03,  -4.23409123e-02,  -1.20017665e-02,\n",
        "               1.29906569e-02,  -1.27370077e-02,  -6.41141526e-03,\n",
        "               1.36715713e-02,   6.97993958e-03,  -2.04149577e-02,\n",
        "               7.32020941e-03,   1.05776143e-02,  -6.95300845e-03,\n",
        "              -9.43612512e-03,  -3.02554246e-03,   7.44395477e-03,\n",
        "               8.69032657e-03,  -6.13436591e-03,   8.88979665e-03,\n",
        "               1.48450261e-02,  -1.02341758e-02,  -6.96869285e-03,\n",
        "               4.83569303e-03,  -1.13919399e-02,   8.25250288e-03,\n",
        "               1.63561143e-02,   7.38426260e-03,  -6.45880111e-03,\n",
        "               1.14832534e-02,   6.60197913e-03,  -8.05717977e-03,\n",
        "              -7.52355912e-03,   6.21814343e-03,  -1.68116985e-03,\n",
        "               9.51213104e-03,  -7.10047808e-04,  -6.06792228e-03,\n",
        "              -7.60652735e-03,  -3.52934668e-03,  -1.62452208e-02,\n",
        "              -1.26990868e-02,   8.14332582e-03,   1.65855938e-02,\n",
        "               2.11075303e-03,  -1.34075407e-02])]},\n",
        "    'layer': 'GatedRecurrent'},\n",
        "   {'config': {'activation': 'sigmoid',\n",
        "     'init': 'orthogonal',\n",
        "     'p_drop': 0.0,\n",
        "     'size': 1,\n",
        "     'weights': [array([[-0.130862  ],\n",
        "             [ 0.17161843],\n",
        "             [ 0.13639702],\n",
        "             [-0.09266914],\n",
        "             [-0.0417526 ],\n",
        "             [ 0.10994693],\n",
        "             [ 0.03205676],\n",
        "             [ 0.01359247],\n",
        "             [ 0.08056212],\n",
        "             [-0.12622093],\n",
        "             [ 0.15684039],\n",
        "             [ 0.01833296],\n",
        "             [-0.19868946],\n",
        "             [-0.12760547],\n",
        "             [ 0.10706659],\n",
        "             [-0.11408384],\n",
        "             [ 0.19656993],\n",
        "             [-0.02727145],\n",
        "             [ 0.00485939],\n",
        "             [ 0.12363169],\n",
        "             [ 0.03705301],\n",
        "             [ 0.11887122],\n",
        "             [-0.04648152],\n",
        "             [ 0.20536679],\n",
        "             [-0.05347465],\n",
        "             [ 0.11313966],\n",
        "             [ 0.04053416],\n",
        "             [ 0.01947162],\n",
        "             [-0.15998393],\n",
        "             [-0.01606873],\n",
        "             [-0.24867679],\n",
        "             [ 0.13663371],\n",
        "             [-0.05520652],\n",
        "             [ 0.08714884],\n",
        "             [ 0.16957601],\n",
        "             [-0.02641953],\n",
        "             [ 0.05930994],\n",
        "             [ 0.12782196],\n",
        "             [ 0.20596731],\n",
        "             [-0.04144858],\n",
        "             [ 0.08573486],\n",
        "             [ 0.06010856],\n",
        "             [-0.12378814],\n",
        "             [ 0.15955996],\n",
        "             [-0.19794603],\n",
        "             [ 0.00559937],\n",
        "             [ 0.0416    ],\n",
        "             [ 0.08230623],\n",
        "             [ 0.0376554 ],\n",
        "             [-0.25169969],\n",
        "             [-0.00165966],\n",
        "             [-0.11399164],\n",
        "             [-0.05153247],\n",
        "             [-0.00274245],\n",
        "             [-0.14045998],\n",
        "             [-0.15715263],\n",
        "             [ 0.13661592],\n",
        "             [-0.03148163],\n",
        "             [ 0.07736391],\n",
        "             [ 0.01636266],\n",
        "             [ 0.01491213],\n",
        "             [-0.19657291],\n",
        "             [ 0.14936805],\n",
        "             [ 0.10874892],\n",
        "             [-0.01361708],\n",
        "             [-0.05885539],\n",
        "             [ 0.16773748],\n",
        "             [-0.21498161],\n",
        "             [ 0.02147465],\n",
        "             [-0.03047005],\n",
        "             [-0.00405927],\n",
        "             [ 0.06300592],\n",
        "             [-0.0814627 ],\n",
        "             [-0.02076429],\n",
        "             [ 0.06381358],\n",
        "             [-0.09011967],\n",
        "             [ 0.03809823],\n",
        "             [-0.0254338 ],\n",
        "             [-0.04354405],\n",
        "             [ 0.09425851],\n",
        "             [ 0.08203588],\n",
        "             [-0.13436074],\n",
        "             [ 0.03729214],\n",
        "             [-0.02194493],\n",
        "             [-0.04854341],\n",
        "             [ 0.08856784],\n",
        "             [ 0.23928702],\n",
        "             [-0.21811855],\n",
        "             [ 0.05667565],\n",
        "             [ 0.04568477],\n",
        "             [-0.15592796],\n",
        "             [-0.17521899],\n",
        "             [ 0.21976167],\n",
        "             [-0.02033011],\n",
        "             [-0.19369199],\n",
        "             [ 0.14103043],\n",
        "             [ 0.12958748],\n",
        "             [ 0.01965308],\n",
        "             [-0.09049188],\n",
        "             [-0.15071097],\n",
        "             [ 0.03223044],\n",
        "             [-0.24670272],\n",
        "             [-0.34484115],\n",
        "             [ 0.14017388],\n",
        "             [-0.02739567],\n",
        "             [-0.02889909],\n",
        "             [ 0.12645552],\n",
        "             [-0.1900305 ],\n",
        "             [-0.11595556],\n",
        "             [-0.0216653 ],\n",
        "             [ 0.01431482],\n",
        "             [-0.18645657],\n",
        "             [-0.06942564],\n",
        "             [ 0.06723435],\n",
        "             [ 0.18247886],\n",
        "             [-0.03340225],\n",
        "             [ 0.06263037],\n",
        "             [-0.24160868],\n",
        "             [-0.01553673],\n",
        "             [ 0.10108552],\n",
        "             [ 0.07775429],\n",
        "             [ 0.08322831],\n",
        "             [-0.09700489],\n",
        "             [ 0.16114842],\n",
        "             [-0.05648073],\n",
        "             [-0.03428026],\n",
        "             [ 0.06631683],\n",
        "             [ 0.1092288 ]]), array([-0.02553411])]},\n",
        "    'layer': 'Dense'}],\n",
        "  'updater': 'Adam',\n",
        "  'verbose': 2},\n",
        " 'model': 'RNN'}"
       ]
      }
     ],
     "prompt_number": 29
    }
   ],
   "metadata": {}
  }
 ]
}