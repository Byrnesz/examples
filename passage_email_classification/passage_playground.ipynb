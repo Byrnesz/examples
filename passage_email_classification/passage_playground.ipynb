{
 "metadata": {
  "name": "",
  "signature": "sha256:d0d6e69994ff27c2314d895f4492a7191956c9e6dd5ed95f26e31db9af26e0fa"
 },
 "nbformat": 3,
 "nbformat_minor": 0,
 "worksheets": [
  {
   "cells": [
    {
     "cell_type": "code",
     "collapsed": false,
     "input": [
      "import pandas as pd\n",
      "import numpy as np\n",
      "from sklearn import cross_validation\n",
      "from sklearn.feature_extraction.text import CountVectorizer\n",
      "from passage.preprocessing import Tokenizer\n",
      "from passage.layers import Embedding, GatedRecurrent, Dense\n",
      "from passage.models import RNN\n",
      "from passage.utils import save, load"
     ],
     "language": "python",
     "metadata": {},
     "outputs": [],
     "prompt_number": 1
    },
    {
     "cell_type": "code",
     "collapsed": false,
     "input": [
      "tokenizer = Tokenizer()"
     ],
     "language": "python",
     "metadata": {},
     "outputs": [],
     "prompt_number": 2
    },
    {
     "cell_type": "code",
     "collapsed": false,
     "input": [
      "gid = pd.read_json('email.json')\n",
      "mom = pd.read_json('mom.json')"
     ],
     "language": "python",
     "metadata": {},
     "outputs": [],
     "prompt_number": 3
    },
    {
     "cell_type": "code",
     "collapsed": false,
     "input": [
      "g_emails = []\n",
      "m_emails = []\n",
      "for email in gid.body:\n",
      "    if email != []:\n",
      "        g_emails.append({'gids': True, 'body': email['content']})\n",
      "for email in mom.body:\n",
      "    if email != []:\n",
      "        m_emails.append({'gids': False, 'body': email['content']})\n",
      "df = pd.DataFrame.from_records(g_emails + m_emails)"
     ],
     "language": "python",
     "metadata": {},
     "outputs": [],
     "prompt_number": 4
    },
    {
     "cell_type": "code",
     "collapsed": false,
     "input": [
      "vectorizer = CountVectorizer(min_df=5, max_df=.3, ngram_range=(1,2))\n",
      "X = vectorizer.fit_transform(df.body)\n",
      "X = X.tocsc()\n",
      "Y = df.gids.values.astype(np.int)"
     ],
     "language": "python",
     "metadata": {},
     "outputs": [],
     "prompt_number": 5
    },
    {
     "cell_type": "code",
     "collapsed": false,
     "input": [
      "X_train, X_test, Y_train, Y_test = cross_validation.train_test_split(X,Y)"
     ],
     "language": "python",
     "metadata": {},
     "outputs": [],
     "prompt_number": 6
    },
    {
     "cell_type": "code",
     "collapsed": false,
     "input": [
      "train_tokens = tokenizer.fit_transform(df.body[:6000])\n",
      "\n",
      "layers = [\n",
      "    Embedding(size=128, n_features=tokenizer.n_features),\n",
      "    GatedRecurrent(size=128, ),\n",
      "    Dense(size=1, activation='sigmoid')\n",
      "]\n",
      "\n",
      "model = RNN(layers=layers, cost='BinaryCrossEntropy')\n",
      "model.fit(train_tokens, df.gids[:6000])\n",
      "\n",
      "model.predict(tokenizer.transform(df.body[6001:]))\n",
      "save(model, 'save_test.pkl')\n",
      "model = load('save_test.pkl')"
     ],
     "language": "python",
     "metadata": {},
     "outputs": [
      {
       "output_type": "stream",
       "stream": "stdout",
       "text": [
        "\r",
        "Epoch 0 Seen 64 samples Avg cost 0.6925 Time left 24 seconds"
       ]
      },
      {
       "output_type": "stream",
       "stream": "stdout",
       "text": [
        "\r",
        "Epoch 0 Seen 128 samples Avg cost 0.6916 Time left 121 seconds"
       ]
      },
      {
       "output_type": "stream",
       "stream": "stdout",
       "text": [
        "\r",
        "Epoch 0 Seen 192 samples Avg cost 0.6941 Time left 111 seconds"
       ]
      },
      {
       "output_type": "stream",
       "stream": "stdout",
       "text": [
        "\r",
        "Epoch 0 Seen 256 samples Avg cost 0.6931 Time left 120 seconds"
       ]
      },
      {
       "output_type": "stream",
       "stream": "stdout",
       "text": [
        "\r",
        "Epoch 0 Seen 320 samples Avg cost 0.6899 Time left 107 seconds"
       ]
      },
      {
       "output_type": "stream",
       "stream": "stdout",
       "text": [
        "\r",
        "Epoch 0 Seen 384 samples Avg cost 0.6923 Time left 90 seconds"
       ]
      },
      {
       "output_type": "stream",
       "stream": "stdout",
       "text": [
        "\r",
        "Epoch 0 Seen 448 samples Avg cost 0.6910 Time left 115 seconds"
       ]
      },
      {
       "output_type": "stream",
       "stream": "stdout",
       "text": [
        "\r",
        "Epoch 0 Seen 512 samples Avg cost 0.6890 Time left 105 seconds"
       ]
      },
      {
       "output_type": "stream",
       "stream": "stdout",
       "text": [
        "\r",
        "Epoch 0 Seen 576 samples Avg cost 0.6867 Time left 110 seconds"
       ]
      },
      {
       "output_type": "stream",
       "stream": "stdout",
       "text": [
        "\r",
        "Epoch 0 Seen 640 samples Avg cost 0.6864 Time left 102 seconds"
       ]
      },
      {
       "output_type": "stream",
       "stream": "stdout",
       "text": [
        "\r",
        "Epoch 0 Seen 704 samples Avg cost 0.6857 Time left 92 seconds"
       ]
      },
      {
       "output_type": "stream",
       "stream": "stdout",
       "text": [
        "\r",
        "Epoch 0 Seen 768 samples Avg cost 0.6836 Time left 86 seconds"
       ]
      },
      {
       "output_type": "stream",
       "stream": "stdout",
       "text": [
        "\r",
        "Epoch 0 Seen 832 samples Avg cost 0.6771 Time left 82 seconds"
       ]
      },
      {
       "output_type": "stream",
       "stream": "stdout",
       "text": [
        "\r",
        "Epoch 0 Seen 896 samples Avg cost 0.6763 Time left 84 seconds"
       ]
      },
      {
       "output_type": "stream",
       "stream": "stdout",
       "text": [
        "\r",
        "Epoch 0 Seen 960 samples Avg cost 0.6741 Time left 87 seconds"
       ]
      },
      {
       "output_type": "stream",
       "stream": "stdout",
       "text": [
        "\r",
        "Epoch 0 Seen 1024 samples Avg cost 0.6732 Time left 81 seconds"
       ]
      },
      {
       "output_type": "stream",
       "stream": "stdout",
       "text": [
        "\r",
        "Epoch 0 Seen 1088 samples Avg cost 0.6726 Time left 86 seconds"
       ]
      },
      {
       "output_type": "stream",
       "stream": "stdout",
       "text": [
        "\r",
        "Epoch 0 Seen 1152 samples Avg cost 0.6714 Time left 84 seconds"
       ]
      },
      {
       "output_type": "stream",
       "stream": "stdout",
       "text": [
        "\r",
        "Epoch 0 Seen 1216 samples Avg cost 0.6634 Time left 82 seconds"
       ]
      },
      {
       "output_type": "stream",
       "stream": "stdout",
       "text": [
        "\r",
        "Epoch 0 Seen 1280 samples Avg cost 0.6646 Time left 77 seconds"
       ]
      },
      {
       "output_type": "stream",
       "stream": "stdout",
       "text": [
        "\r",
        "Epoch 0 Seen 1344 samples Avg cost 0.6545 Time left 74 seconds"
       ]
      },
      {
       "output_type": "stream",
       "stream": "stdout",
       "text": [
        "\r",
        "Epoch 0 Seen 1408 samples Avg cost 0.6479 Time left 72 seconds"
       ]
      },
      {
       "output_type": "stream",
       "stream": "stdout",
       "text": [
        "\r",
        "Epoch 0 Seen 1472 samples Avg cost 0.6409 Time left 70 seconds"
       ]
      },
      {
       "output_type": "stream",
       "stream": "stdout",
       "text": [
        "\r",
        "Epoch 0 Seen 1536 samples Avg cost 0.6383 Time left 67 seconds"
       ]
      },
      {
       "output_type": "stream",
       "stream": "stdout",
       "text": [
        "\r",
        "Epoch 0 Seen 1600 samples Avg cost 0.6256 Time left 66 seconds"
       ]
      },
      {
       "output_type": "stream",
       "stream": "stdout",
       "text": [
        "\r",
        "Epoch 0 Seen 1664 samples Avg cost 0.6200 Time left 65 seconds"
       ]
      },
      {
       "output_type": "stream",
       "stream": "stdout",
       "text": [
        "\r",
        "Epoch 0 Seen 1728 samples Avg cost 0.6235 Time left 62 seconds"
       ]
      },
      {
       "output_type": "stream",
       "stream": "stdout",
       "text": [
        "\r",
        "Epoch 0 Seen 1792 samples Avg cost 0.6287 Time left 59 seconds"
       ]
      },
      {
       "output_type": "stream",
       "stream": "stdout",
       "text": [
        "\r",
        "Epoch 0 Seen 1856 samples Avg cost 0.6265 Time left 56 seconds"
       ]
      },
      {
       "output_type": "stream",
       "stream": "stdout",
       "text": [
        "\r",
        "Epoch 0 Seen 1920 samples Avg cost 0.6220 Time left 58 seconds"
       ]
      },
      {
       "output_type": "stream",
       "stream": "stdout",
       "text": [
        "\r",
        "Epoch 0 Seen 1984 samples Avg cost 0.6123 Time left 56 seconds"
       ]
      },
      {
       "output_type": "stream",
       "stream": "stdout",
       "text": [
        "\r",
        "Epoch 0 Seen 2048 samples Avg cost 0.6089 Time left 54 seconds"
       ]
      },
      {
       "output_type": "stream",
       "stream": "stdout",
       "text": [
        "\r",
        "Epoch 0 Seen 2112 samples Avg cost 0.6069 Time left 54 seconds"
       ]
      },
      {
       "output_type": "stream",
       "stream": "stdout",
       "text": [
        "\r",
        "Epoch 0 Seen 2176 samples Avg cost 0.6040 Time left 56 seconds"
       ]
      },
      {
       "output_type": "stream",
       "stream": "stdout",
       "text": [
        "\r",
        "Epoch 0 Seen 2240 samples Avg cost 0.5969 Time left 55 seconds"
       ]
      },
      {
       "output_type": "stream",
       "stream": "stdout",
       "text": [
        "\r",
        "Epoch 0 Seen 2304 samples Avg cost 0.5949 Time left 55 seconds"
       ]
      },
      {
       "output_type": "stream",
       "stream": "stdout",
       "text": [
        "\r",
        "Epoch 0 Seen 2368 samples Avg cost 0.6004 Time left 52 seconds"
       ]
      },
      {
       "output_type": "stream",
       "stream": "stdout",
       "text": [
        "\r",
        "Epoch 0 Seen 2432 samples Avg cost 0.5953 Time left 50 seconds"
       ]
      },
      {
       "output_type": "stream",
       "stream": "stdout",
       "text": [
        "\r",
        "Epoch 0 Seen 2496 samples Avg cost 0.5887 Time left 49 seconds"
       ]
      },
      {
       "output_type": "stream",
       "stream": "stdout",
       "text": [
        "\r",
        "Epoch 0 Seen 2560 samples Avg cost 0.5868 Time left 47 seconds"
       ]
      },
      {
       "output_type": "stream",
       "stream": "stdout",
       "text": [
        "\r",
        "Epoch 0 Seen 2624 samples Avg cost 0.5932 Time left 45 seconds"
       ]
      },
      {
       "output_type": "stream",
       "stream": "stdout",
       "text": [
        "\r",
        "Epoch 0 Seen 2688 samples Avg cost 0.5871 Time left 44 seconds"
       ]
      },
      {
       "output_type": "stream",
       "stream": "stdout",
       "text": [
        "\r",
        "Epoch 0 Seen 2752 samples Avg cost 0.5817 Time left 44 seconds"
       ]
      },
      {
       "output_type": "stream",
       "stream": "stdout",
       "text": [
        "\r",
        "Epoch 0 Seen 2816 samples Avg cost 0.5827 Time left 42 seconds"
       ]
      },
      {
       "output_type": "stream",
       "stream": "stdout",
       "text": [
        "\r",
        "Epoch 0 Seen 2880 samples Avg cost 0.5815 Time left 40 seconds"
       ]
      },
      {
       "output_type": "stream",
       "stream": "stdout",
       "text": [
        "\r",
        "Epoch 0 Seen 2944 samples Avg cost 0.5785 Time left 39 seconds"
       ]
      },
      {
       "output_type": "stream",
       "stream": "stdout",
       "text": [
        "\r",
        "Epoch 0 Seen 3008 samples Avg cost 0.5716 Time left 37 seconds"
       ]
      },
      {
       "output_type": "stream",
       "stream": "stdout",
       "text": [
        "\r",
        "Epoch 0 Seen 3072 samples Avg cost 0.5748 Time left 35 seconds"
       ]
      },
      {
       "output_type": "stream",
       "stream": "stdout",
       "text": [
        "\r",
        "Epoch 0 Seen 3136 samples Avg cost 0.5728 Time left 34 seconds"
       ]
      },
      {
       "output_type": "stream",
       "stream": "stdout",
       "text": [
        "\r",
        "Epoch 0 Seen 3200 samples Avg cost 0.5697 Time left 32 seconds"
       ]
      },
      {
       "output_type": "stream",
       "stream": "stdout",
       "text": [
        "\r",
        "Epoch 0 Seen 3264 samples Avg cost 0.5649 Time left 32 seconds"
       ]
      },
      {
       "output_type": "stream",
       "stream": "stdout",
       "text": [
        "\r",
        "Epoch 0 Seen 3328 samples Avg cost 0.5606 Time left 31 seconds"
       ]
      },
      {
       "output_type": "stream",
       "stream": "stdout",
       "text": [
        "\r",
        "Epoch 0 Seen 3392 samples Avg cost 0.5570 Time left 29 seconds"
       ]
      },
      {
       "output_type": "stream",
       "stream": "stdout",
       "text": [
        "\r",
        "Epoch 0 Seen 3456 samples Avg cost 0.5492 Time left 28 seconds"
       ]
      },
      {
       "output_type": "stream",
       "stream": "stdout",
       "text": [
        "\r",
        "Epoch 0 Seen 3520 samples Avg cost 0.5484 Time left 26 seconds"
       ]
      },
      {
       "output_type": "stream",
       "stream": "stdout",
       "text": [
        "\r",
        "Epoch 0 Seen 3584 samples Avg cost 0.5471 Time left 25 seconds"
       ]
      },
      {
       "output_type": "stream",
       "stream": "stdout",
       "text": [
        "\r",
        "Epoch 0 Seen 3648 samples Avg cost 0.5449 Time left 25 seconds"
       ]
      },
      {
       "output_type": "stream",
       "stream": "stdout",
       "text": [
        "\r",
        "Epoch 0 Seen 3712 samples Avg cost 0.5438 Time left 23 seconds"
       ]
      },
      {
       "output_type": "stream",
       "stream": "stdout",
       "text": [
        "\r",
        "Epoch 0 Seen 3776 samples Avg cost 0.5424 Time left 23 seconds"
       ]
      },
      {
       "output_type": "stream",
       "stream": "stdout",
       "text": [
        "\r",
        "Epoch 0 Seen 3840 samples Avg cost 0.5419 Time left 22 seconds"
       ]
      },
      {
       "output_type": "stream",
       "stream": "stdout",
       "text": [
        "\r",
        "Epoch 0 Seen 3904 samples Avg cost 0.5415 Time left 21 seconds"
       ]
      },
      {
       "output_type": "stream",
       "stream": "stdout",
       "text": [
        "\r",
        "Epoch 0 Seen 3968 samples Avg cost 0.5412 Time left 20 seconds"
       ]
      },
      {
       "output_type": "stream",
       "stream": "stdout",
       "text": [
        "\r",
        "Epoch 0 Seen 4032 samples Avg cost 0.5382 Time left 19 seconds"
       ]
      },
      {
       "output_type": "stream",
       "stream": "stdout",
       "text": [
        "\r",
        "Epoch 0 Seen 4096 samples Avg cost 0.5329 Time left 17 seconds"
       ]
      },
      {
       "output_type": "stream",
       "stream": "stdout",
       "text": [
        "\r",
        "Epoch 0 Seen 4160 samples Avg cost 0.5343 Time left 16 seconds"
       ]
      },
      {
       "output_type": "stream",
       "stream": "stdout",
       "text": [
        "\r",
        "Epoch 0 Seen 4224 samples Avg cost 0.5322 Time left 14 seconds"
       ]
      },
      {
       "output_type": "stream",
       "stream": "stdout",
       "text": [
        "\r",
        "Epoch 0 Seen 4288 samples Avg cost 0.5290 Time left 13 seconds"
       ]
      },
      {
       "output_type": "stream",
       "stream": "stdout",
       "text": [
        "\r",
        "Epoch 0 Seen 4352 samples Avg cost 0.5265 Time left 12 seconds"
       ]
      },
      {
       "output_type": "stream",
       "stream": "stdout",
       "text": [
        "\r",
        "Epoch 0 Seen 4416 samples Avg cost 0.5252 Time left 10 seconds"
       ]
      },
      {
       "output_type": "stream",
       "stream": "stdout",
       "text": [
        "\r",
        "Epoch 0 Seen 4480 samples Avg cost 0.5230 Time left 9 seconds"
       ]
      },
      {
       "output_type": "stream",
       "stream": "stdout",
       "text": [
        "\r",
        "Epoch 0 Seen 4544 samples Avg cost 0.5241 Time left 8 seconds"
       ]
      },
      {
       "output_type": "stream",
       "stream": "stdout",
       "text": [
        "\r",
        "Epoch 0 Seen 4608 samples Avg cost 0.5225 Time left 6 seconds"
       ]
      },
      {
       "output_type": "stream",
       "stream": "stdout",
       "text": [
        "\r",
        "Epoch 0 Seen 4672 samples Avg cost 0.5202 Time left 5 seconds"
       ]
      },
      {
       "output_type": "stream",
       "stream": "stdout",
       "text": [
        "\r",
        "Epoch 0 Seen 4736 samples Avg cost 0.5217 Time left 4 seconds"
       ]
      },
      {
       "output_type": "stream",
       "stream": "stdout",
       "text": [
        "\r",
        "Epoch 0 Seen 4800 samples Avg cost 0.5207 Time left 3 seconds"
       ]
      },
      {
       "output_type": "stream",
       "stream": "stdout",
       "text": [
        "\r",
        "Epoch 0 Seen 4844 samples Avg cost 0.5187 Time left 2 seconds"
       ]
      },
      {
       "output_type": "stream",
       "stream": "stdout",
       "text": [
        "\r",
        "Epoch 0 Seen 4908 samples Avg cost 0.5180 Time left 1 seconds"
       ]
      },
      {
       "output_type": "stream",
       "stream": "stdout",
       "text": [
        "\r",
        "Epoch 0 Seen 4972 samples Avg cost 0.5170 Time left 96 seconds"
       ]
      },
      {
       "output_type": "stream",
       "stream": "stdout",
       "text": [
        "\r",
        "Epoch 0 Seen 4972 samples Avg cost 0.5170 Time elapsed 96 seconds"
       ]
      },
      {
       "output_type": "stream",
       "stream": "stdout",
       "text": [
        "\n"
       ]
      }
     ],
     "prompt_number": 10
    },
    {
     "cell_type": "code",
     "collapsed": false,
     "input": [
      "model = load('save_test.pkl')"
     ],
     "language": "python",
     "metadata": {},
     "outputs": [],
     "prompt_number": 8
    },
    {
     "cell_type": "code",
     "collapsed": false,
     "input": [
      "pd.read_pickle('save_test.pkl')"
     ],
     "language": "python",
     "metadata": {},
     "outputs": [
      {
       "metadata": {},
       "output_type": "pyout",
       "prompt_number": 9,
       "text": [
        "{'config': {'Y': <TensorType(float64, matrix)>,\n",
        "  'cost': 'BinaryCrossEntropy',\n",
        "  'iterator': 'SortedPadded',\n",
        "  'layers': [{'config': {'init': 'uniform',\n",
        "     'n_features': 6918,\n",
        "     'size': 128,\n",
        "     'weights': [array([[ 0.03312097,  0.04060527,  0.04827902, ..., -0.01812475,\n",
        "              -0.02869818, -0.03894287],\n",
        "             [-0.03391495,  0.03431951,  0.0246983 , ..., -0.03784984,\n",
        "              -0.00635578,  0.01535285],\n",
        "             [-0.00527926,  0.00229587, -0.02838745, ..., -0.00658202,\n",
        "              -0.00050677,  0.02343225],\n",
        "             ..., \n",
        "             [ 0.0376344 ,  0.02854657, -0.02484326, ..., -0.00911617,\n",
        "               0.01018887, -0.0165125 ],\n",
        "             [ 0.02921009,  0.03285624, -0.04455685, ...,  0.02955232,\n",
        "               0.0466847 , -0.04675856],\n",
        "             [-0.01159143,  0.04724176,  0.0207333 , ...,  0.02223222,\n",
        "              -0.02043324,  0.02108558]])]},\n",
        "    'layer': 'Embedding'},\n",
        "   {'config': {'activation': 'tanh',\n",
        "     'gate_activation': 'steeper_sigmoid',\n",
        "     'init': 'orthogonal',\n",
        "     'p_drop': 0.0,\n",
        "     'seq_output': False,\n",
        "     'size': 128,\n",
        "     'truncate_gradient': -1,\n",
        "     'weights': [array([[ 0.01499726,  0.01443255,  0.01162543, -0.01211569,  0.01321895,\n",
        "              -0.0079638 ,  0.01386346, -0.01420497,  0.01543084,  0.01570043,\n",
        "              -0.01520543, -0.01741445, -0.00071881, -0.01507261,  0.00079807,\n",
        "               0.01630459,  0.01577754, -0.01581164, -0.00972521, -0.01531268,\n",
        "               0.01344843, -0.00758336, -0.01446365, -0.0114799 ,  0.00420662,\n",
        "              -0.01401894, -0.01232098,  0.01528924,  0.01403183, -0.0152934 ,\n",
        "               0.01486094,  0.01623208,  0.01268381,  0.00668403, -0.0154024 ,\n",
        "              -0.01577366, -0.01361595, -0.01423516,  0.01843064, -0.01614574,\n",
        "              -0.01344036, -0.01284294, -0.01459706,  0.01426728, -0.01251521,\n",
        "              -0.00719494,  0.01326905, -0.01480377,  0.01369432, -0.01107403,\n",
        "              -0.01426517, -0.01256007,  0.01188972, -0.01542486,  0.01598045,\n",
        "               0.01258396,  0.01502563, -0.00167135,  0.00175084,  0.01390557,\n",
        "              -0.01532019, -0.01481052, -0.01194254, -0.01386686, -0.01466395,\n",
        "               0.00279652,  0.0018961 , -0.00211106,  0.01506855,  0.01576057,\n",
        "               0.01523906, -0.0156789 ,  0.01400335, -0.01492868,  0.00547287,\n",
        "               0.00787153,  0.00230682,  0.01518369, -0.00098076,  0.01131785,\n",
        "              -0.00232878, -0.01518913,  0.01292066, -0.00118686, -0.01348203,\n",
        "              -0.01279665, -0.01038914, -0.01393877,  0.01452768,  0.01422624,\n",
        "              -0.01249913,  0.0080811 , -0.01537059, -0.01403287, -0.01354912,\n",
        "              -0.0135314 ,  0.01414243,  0.00425553,  0.01321429, -0.01483661,\n",
        "               0.01498716,  0.0146881 ,  0.01560419,  0.00892693,  0.01592565,\n",
        "               0.00046938,  0.01448157, -0.01556149, -0.01401449,  0.01389566,\n",
        "               0.01603872,  0.01129635,  0.01387523,  0.0028986 , -0.01621361,\n",
        "              -0.01461769, -0.01829612,  0.00308122,  0.01257284,  0.01460507,\n",
        "               0.01371463, -0.01441036, -0.0121359 ,  0.00903996, -0.01444388,\n",
        "               0.01409502,  0.01521178,  0.01489488]]),\n",
        "      array([[-0.02727095, -0.10619796, -0.03713075, ...,  0.02796127,\n",
        "              -0.04384551, -0.05952094],\n",
        "             [ 0.04929346, -0.02441697,  0.18825526, ...,  0.05636146,\n",
        "              -0.00820748, -0.05485328],\n",
        "             [-0.07284426,  0.01105558,  0.1277062 , ...,  0.03470502,\n",
        "               0.00064757, -0.2327797 ],\n",
        "             ..., \n",
        "             [-0.0614633 ,  0.16407759,  0.00081376, ..., -0.02791882,\n",
        "               0.02975113,  0.07117738],\n",
        "             [-0.15661278, -0.05650498,  0.00555327, ...,  0.10608543,\n",
        "              -0.04735847, -0.05282554],\n",
        "             [-0.04568677,  0.07350222, -0.12533665, ..., -0.09532329,\n",
        "               0.1632323 , -0.00194623]]),\n",
        "      array([[-0.05082864, -0.08892008, -0.00046594, ...,  0.04803664,\n",
        "              -0.15833128, -0.10502622],\n",
        "             [ 0.00548506,  0.16993669, -0.01821722, ..., -0.03069987,\n",
        "               0.02693476,  0.10087086],\n",
        "             [-0.07969549, -0.22087957,  0.02641364, ..., -0.00322407,\n",
        "               0.26804862, -0.08778681],\n",
        "             ..., \n",
        "             [ 0.04639137,  0.06316421,  0.03072362, ..., -0.00552824,\n",
        "              -0.21372089,  0.1590674 ],\n",
        "             [ 0.14820162,  0.08677357,  0.10958278, ...,  0.16937308,\n",
        "               0.00530073, -0.08660309],\n",
        "             [ 0.06638873,  0.09148027, -0.08501607, ...,  0.16547769,\n",
        "               0.05763668, -0.05096099]]),\n",
        "      array([[  1.35510216e-01,  -2.06439914e-01,  -5.85387422e-02, ...,\n",
        "               -1.73755714e-01,  -5.87660993e-02,   4.91196678e-02],\n",
        "             [ -6.33450106e-02,  -2.76688072e-02,  -1.54669516e-02, ...,\n",
        "               -2.77508078e-02,   2.96401120e-02,  -5.43399238e-05],\n",
        "             [ -1.11241208e-01,  -2.92959514e-02,  -6.65126995e-02, ...,\n",
        "               -7.89355509e-02,  -1.63695305e-01,  -3.27454258e-01],\n",
        "             ..., \n",
        "             [  1.39395226e-01,  -5.69095430e-02,   8.46755494e-02, ...,\n",
        "                1.12376941e-01,   2.15875285e-01,   2.58069290e-02],\n",
        "             [  9.71587826e-02,  -1.75479531e-01,  -2.13147449e-02, ...,\n",
        "                1.44261814e-01,   1.18127009e-01,   3.41579918e-03],\n",
        "             [  2.32812551e-01,   2.19527125e-03,  -4.70287143e-02, ...,\n",
        "               -1.90348909e-01,  -1.60686010e-02,   4.62333223e-03]]),\n",
        "      array([[ 0.08693992, -0.12981699, -0.03172945, ..., -0.00908019,\n",
        "               0.02491095,  0.15981618],\n",
        "             [ 0.10786222, -0.02711067, -0.0126156 , ...,  0.00415208,\n",
        "               0.01815266, -0.10327864],\n",
        "             [-0.02623545, -0.09107478, -0.07807572, ...,  0.07562365,\n",
        "               0.13748411,  0.14599061],\n",
        "             ..., \n",
        "             [-0.09591346,  0.00431271,  0.02264299, ...,  0.09683378,\n",
        "              -0.050337  , -0.16563434],\n",
        "             [ 0.10801233, -0.09850483,  0.12126726, ..., -0.08011845,\n",
        "              -0.01807757, -0.04538418],\n",
        "             [-0.1182    ,  0.05493089,  0.20718061, ..., -0.01524997,\n",
        "              -0.01898081, -0.14484811]]),\n",
        "      array([[-0.00984178,  0.052137  ,  0.05251434, ..., -0.10988034,\n",
        "               0.07453022, -0.01977168],\n",
        "             [ 0.03284409,  0.02577935, -0.05674944, ...,  0.109702  ,\n",
        "               0.09408005,  0.01206064],\n",
        "             [-0.17447986,  0.02073764,  0.05232267, ...,  0.05185586,\n",
        "               0.09764513, -0.11536332],\n",
        "             ..., \n",
        "             [ 0.08569012, -0.16995706,  0.08862136, ..., -0.06398886,\n",
        "              -0.03004264,  0.03580741],\n",
        "             [ 0.0338926 , -0.04943013,  0.05067319, ...,  0.12024484,\n",
        "              -0.05118171,  0.17227405],\n",
        "             [-0.04184764, -0.15757763, -0.05052138, ...,  0.0573145 ,\n",
        "               0.12975119,  0.0226677 ]]),\n",
        "      array([[ 0.01974078, -0.02038562,  0.17294572, ..., -0.00676779,\n",
        "              -0.01154924, -0.04845063],\n",
        "             [ 0.13227729, -0.10147477, -0.05287943, ...,  0.08066916,\n",
        "              -0.04556067,  0.01925372],\n",
        "             [ 0.17080119, -0.05592435,  0.02695639, ...,  0.04966455,\n",
        "              -0.0008648 , -0.09998817],\n",
        "             ..., \n",
        "             [ 0.02832128, -0.03085086, -0.03831775, ..., -0.01825386,\n",
        "              -0.04223618,  0.1754155 ],\n",
        "             [-0.05290098, -0.16379488,  0.03922419, ...,  0.12467779,\n",
        "               0.01106844,  0.07036106],\n",
        "             [ 0.12701643,  0.0526517 , -0.00624597, ...,  0.05854822,\n",
        "               0.0654182 ,  0.05212782]]),\n",
        "      array([-0.03432343, -0.043973  ,  0.01077332, -0.0032574 ,  0.00813189,\n",
        "             -0.00327129, -0.00954551,  0.00212867, -0.02491833, -0.02034074,\n",
        "              0.0146952 ,  0.00981268, -0.02031083, -0.0222214 ,  0.00122   ,\n",
        "              0.00166598, -0.00550806,  0.00539651, -0.03070748,  0.00454233,\n",
        "              0.00378433, -0.02211418, -0.00827712, -0.00880953, -0.02995312,\n",
        "             -0.0012285 , -0.00843915, -0.00835903, -0.00222863, -0.00523376,\n",
        "             -0.0263139 , -0.03835075, -0.00695469, -0.02944925,  0.0016239 ,\n",
        "              0.01429514, -0.00537895,  0.00233988, -0.00337094, -0.02979823,\n",
        "             -0.02115179, -0.00603065, -0.01640741,  0.02554215,  0.00401387,\n",
        "             -0.01866595,  0.00710032, -0.01348701, -0.01002679, -0.02790826,\n",
        "              0.02109386, -0.00456431,  0.00506518, -0.00031946, -0.0351285 ,\n",
        "              0.00162313, -0.00118411, -0.01212965,  0.02657084, -0.01641384,\n",
        "              0.00512566, -0.00194735, -0.01323214,  0.00261449,  0.00537046,\n",
        "             -0.03725425, -0.00271302,  0.0015914 , -0.00971141, -0.00897595,\n",
        "              0.01279755, -0.03173574,  0.00358392, -0.02481899,  0.00448094,\n",
        "              0.00266037, -0.01148484, -0.02532842, -0.01317559, -0.03038283,\n",
        "             -0.01453581,  0.00970615,  0.00105747, -0.04288461,  0.00195009,\n",
        "             -0.01186002,  0.01740417, -0.00481265,  0.00125237, -0.01256411,\n",
        "             -0.02134319,  0.00588706, -0.0074256 , -0.00482514, -0.00537265,\n",
        "              0.00246073, -0.03744675, -0.04236137, -0.03598416, -0.02269739,\n",
        "             -0.03347057, -0.00152528, -0.0144412 , -0.01435399, -0.01315278,\n",
        "              0.01025775,  0.00158559, -0.02937222, -0.00392104, -0.03337507,\n",
        "             -0.04110284, -0.04067656,  0.00170115, -0.02851788, -0.01804564,\n",
        "             -0.01329668, -0.02058339, -0.02577239, -0.02230666,  0.01636628,\n",
        "             -0.02390696, -0.04072401, -0.01186703, -0.03364391, -0.02334937,\n",
        "              0.01524568, -0.024698  , -0.00530219]),\n",
        "      array([ 0.01694085,  0.02090471,  0.00649233,  0.01822082,  0.01090971,\n",
        "              0.03780071,  0.00540444, -0.00293907,  0.00806021, -0.0026354 ,\n",
        "              0.01153947, -0.00600523, -0.00602677,  0.00879628, -0.00942227,\n",
        "             -0.00289647,  0.00179937,  0.00141682,  0.00634119,  0.00136288,\n",
        "              0.00898346,  0.00812929,  0.01133687,  0.02010502,  0.00087521,\n",
        "              0.01792951,  0.00741349,  0.00916409,  0.00783008,  0.01593875,\n",
        "              0.01023911,  0.01312259,  0.0166418 ,  0.00315901, -0.00131662,\n",
        "              0.0189572 , -0.00254102,  0.01935072,  0.00040907,  0.00894411,\n",
        "              0.01426747,  0.0369476 , -0.00562652,  0.01318967, -0.00589893,\n",
        "             -0.00174875,  0.01692907,  0.00498005,  0.02095368,  0.00578175,\n",
        "              0.00546068, -0.00210028, -0.00195633,  0.00933619,  0.0128282 ,\n",
        "             -0.00133484,  0.03393914, -0.0025671 , -0.00209045,  0.00518123,\n",
        "              0.00448713,  0.00319739, -0.0006138 ,  0.01786603,  0.0127961 ,\n",
        "             -0.01210218, -0.00293949, -0.01341941,  0.02133508,  0.00958911,\n",
        "              0.00885911,  0.00140484, -0.00277646,  0.00492525, -0.00464708,\n",
        "             -0.01068834,  0.00164374,  0.01946032,  0.00879031,  0.00050837,\n",
        "              0.0037331 ,  0.00513579,  0.00044901,  0.00063672, -0.00254201,\n",
        "              0.00386583,  0.03320036,  0.01615179,  0.00098469, -0.0030784 ,\n",
        "             -0.00275911,  0.02030627,  0.00549183,  0.01299602,  0.0074207 ,\n",
        "              0.00571374,  0.0039551 ,  0.0323798 ,  0.00379985,  0.02492781,\n",
        "              0.0122962 ,  0.01978388, -0.00013749,  0.02181069,  0.00554872,\n",
        "             -0.00848459,  0.01879733,  0.00938619,  0.00370497,  0.00587711,\n",
        "             -0.01325852, -0.00435423,  0.01129449, -0.0171476 ,  0.01124808,\n",
        "              0.01538185, -0.01082526, -0.00245661, -0.00867057,  0.0013611 ,\n",
        "              0.00847273,  0.00137961, -0.00932085, -0.00253241, -0.01779467,\n",
        "              0.00822259,  0.01186975,  0.01083588]),\n",
        "      array([ 0.00489673,  0.02025269,  0.00531993, -0.00747275,  0.00799042,\n",
        "             -0.00571127,  0.00725838, -0.00655904,  0.00976002,  0.007359  ,\n",
        "             -0.00579698,  0.00851013,  0.01448933, -0.00626123, -0.00821152,\n",
        "              0.009097  ,  0.01048255, -0.00209162, -0.01759242, -0.01123525,\n",
        "              0.01135858,  0.00411462, -0.00707107,  0.00043355,  0.00574726,\n",
        "              0.00553228, -0.01682687,  0.00230564,  0.00657858, -0.00504032,\n",
        "              0.0049484 , -0.00162262,  0.00753767,  0.0132896 , -0.00701477,\n",
        "             -0.00554558, -0.00642592,  0.01193384,  0.02271666, -0.00421144,\n",
        "             -0.00300563,  0.0030065 , -0.00714657,  0.00503373, -0.00689102,\n",
        "             -0.01658934,  0.00751359, -0.00631383, -0.00134201,  0.00497395,\n",
        "             -0.00568463, -0.00832094,  0.00655991, -0.00634352,  0.00732157,\n",
        "              0.00472621, -0.00128353,  0.00228502,  0.00038399,  0.00892306,\n",
        "             -0.01143387, -0.00523662, -0.00694239, -0.00529043,  0.00204959,\n",
        "              0.0054208 ,  0.00756176,  0.00611882,  0.00700722,  0.00526969,\n",
        "              0.00787775, -0.01957119,  0.00157248, -0.00511968,  0.01060036,\n",
        "             -0.00692902, -0.00711539,  0.00311276, -0.00761512, -0.00591262,\n",
        "             -0.00175837, -0.00645825,  0.00687573,  0.0046129 , -0.00207358,\n",
        "             -0.00852795, -0.01688587, -0.00772195,  0.0061729 ,  0.00248103,\n",
        "              0.01107876,  0.01623079, -0.00426115, -0.00330528, -0.00482939,\n",
        "             -0.00678098,  0.01028621,  0.00345066,  0.00095308, -0.01900821,\n",
        "              0.00765949, -0.03322747, -0.00619492,  0.02226195,  0.01166675,\n",
        "             -0.00750615,  0.00692875, -0.00935416, -0.00853104,  0.01391718,\n",
        "              0.00942752,  0.00825772,  0.00786202, -0.01283634, -0.0246393 ,\n",
        "             -0.00736778, -0.01605029,  0.00559787, -0.01104811,  0.00587505,\n",
        "              0.02105302, -0.00075647, -0.00672657, -0.00928602,  0.00123346,\n",
        "              0.00293061,  0.00484145,  0.00677068])]},\n",
        "    'layer': 'GatedRecurrent'},\n",
        "   {'config': {'activation': 'sigmoid',\n",
        "     'init': 'orthogonal',\n",
        "     'p_drop': 0.0,\n",
        "     'size': 1,\n",
        "     'weights': [array([[-0.06215137],\n",
        "             [-0.04680937],\n",
        "             [-0.06114009],\n",
        "             [ 0.0444147 ],\n",
        "             [-0.05687742],\n",
        "             [ 0.09810925],\n",
        "             [-0.3370205 ],\n",
        "             [ 0.27633196],\n",
        "             [-0.12382384],\n",
        "             [-0.17603989],\n",
        "             [ 0.0215728 ],\n",
        "             [-0.08872804],\n",
        "             [-0.18261308],\n",
        "             [ 0.03151472],\n",
        "             [ 0.2246783 ],\n",
        "             [-0.20568338],\n",
        "             [-0.05219676],\n",
        "             [ 0.00501027],\n",
        "             [ 0.25614576],\n",
        "             [ 0.16422916],\n",
        "             [-0.07325795],\n",
        "             [ 0.00617805],\n",
        "             [ 0.23153235],\n",
        "             [-0.04166124],\n",
        "             [-0.05410063],\n",
        "             [ 0.01870847],\n",
        "             [ 0.20839053],\n",
        "             [-0.02985084],\n",
        "             [-0.11559555],\n",
        "             [-0.02185895],\n",
        "             [-0.04424798],\n",
        "             [ 0.1158778 ],\n",
        "             [-0.0900377 ],\n",
        "             [-0.11483351],\n",
        "             [ 0.04921453],\n",
        "             [ 0.09429384],\n",
        "             [ 0.08747517],\n",
        "             [-0.11997723],\n",
        "             [-0.26770994],\n",
        "             [ 0.07130776],\n",
        "             [-0.07469693],\n",
        "             [-0.05781719],\n",
        "             [ 0.18668985],\n",
        "             [-0.08648047],\n",
        "             [-0.02487028],\n",
        "             [ 0.15720682],\n",
        "             [-0.13875029],\n",
        "             [ 0.06568988],\n",
        "             [ 0.05379596],\n",
        "             [-0.08293475],\n",
        "             [-0.02861629],\n",
        "             [ 0.03708755],\n",
        "             [-0.04030279],\n",
        "             [ 0.063302  ],\n",
        "             [-0.05762245],\n",
        "             [-0.09354179],\n",
        "             [ 0.12839961],\n",
        "             [-0.07459093],\n",
        "             [-0.03847758],\n",
        "             [-0.09178499],\n",
        "             [ 0.10638832],\n",
        "             [ 0.08741091],\n",
        "             [ 0.01711695],\n",
        "             [ 0.04448195],\n",
        "             [-0.005792  ],\n",
        "             [-0.1042893 ],\n",
        "             [-0.0890922 ],\n",
        "             [-0.07143414],\n",
        "             [-0.09794789],\n",
        "             [-0.04018368],\n",
        "             [-0.22036504],\n",
        "             [ 0.26338532],\n",
        "             [-0.03043514],\n",
        "             [ 0.13993563],\n",
        "             [-0.10185122],\n",
        "             [ 0.11887837],\n",
        "             [ 0.16831723],\n",
        "             [ 0.00074406],\n",
        "             [ 0.03222431],\n",
        "             [ 0.16801235],\n",
        "             [ 0.06687968],\n",
        "             [ 0.01016349],\n",
        "             [-0.07101567],\n",
        "             [-0.13066852],\n",
        "             [ 0.16724358],\n",
        "             [-0.0553166 ],\n",
        "             [ 0.08944071],\n",
        "             [ 0.15390936],\n",
        "             [-0.06368029],\n",
        "             [-0.04569712],\n",
        "             [-0.09468197],\n",
        "             [-0.09079577],\n",
        "             [ 0.04160764],\n",
        "             [ 0.03191228],\n",
        "             [ 0.01576994],\n",
        "             [ 0.10194281],\n",
        "             [-0.07312612],\n",
        "             [-0.03545376],\n",
        "             [ 0.13394042],\n",
        "             [ 0.25430582],\n",
        "             [-0.01298269],\n",
        "             [ 0.06261783],\n",
        "             [ 0.07104305],\n",
        "             [-0.14740566],\n",
        "             [-0.12799336],\n",
        "             [ 0.17583791],\n",
        "             [-0.14929972],\n",
        "             [ 0.05170556],\n",
        "             [ 0.08594935],\n",
        "             [ 0.06733349],\n",
        "             [-0.07789298],\n",
        "             [-0.192707  ],\n",
        "             [-0.154     ],\n",
        "             [ 0.18811644],\n",
        "             [ 0.02539483],\n",
        "             [ 0.14300993],\n",
        "             [ 0.16689731],\n",
        "             [-0.05657408],\n",
        "             [ 0.25757706],\n",
        "             [-0.05049638],\n",
        "             [ 0.01942887],\n",
        "             [-0.11955557],\n",
        "             [ 0.1143492 ],\n",
        "             [ 0.19411017],\n",
        "             [ 0.0652362 ],\n",
        "             [ 0.01720691],\n",
        "             [-0.06522861],\n",
        "             [-0.16544883]]), array([-0.01974434])]},\n",
        "    'layer': 'Dense'}],\n",
        "  'updater': 'Adam',\n",
        "  'verbose': 2},\n",
        " 'model': 'RNN'}"
       ]
      }
     ],
     "prompt_number": 9
    }
   ],
   "metadata": {}
  }
 ]
}