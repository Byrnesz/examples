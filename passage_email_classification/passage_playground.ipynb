{
 "metadata": {
  "name": "",
  "signature": "sha256:c22ef3b2e774a0716312f78abd3b2f1e4675bf98fb06ccb116fda0b8bbe3b962"
 },
 "nbformat": 3,
 "nbformat_minor": 0,
 "worksheets": [
  {
   "cells": [
    {
     "cell_type": "code",
     "collapsed": false,
     "input": [
      "import pandas as pd\n",
      "import numpy as np\n",
      "from sklearn import metrics\n",
      "from sklearn import cross_validation\n",
      "from sklearn.feature_extraction.text import CountVectorizer\n",
      "from passage.preprocessing import Tokenizer\n",
      "from passage.layers import Embedding, GatedRecurrent, Dense\n",
      "from passage.models import RNN\n",
      "from passage.utils import save, load"
     ],
     "language": "python",
     "metadata": {},
     "outputs": [],
     "prompt_number": 53
    },
    {
     "cell_type": "code",
     "collapsed": false,
     "input": [
      "gid = pd.read_json('email.json')\n",
      "mom = pd.read_json('mom.json')"
     ],
     "language": "python",
     "metadata": {},
     "outputs": [],
     "prompt_number": 42
    },
    {
     "cell_type": "code",
     "collapsed": false,
     "input": [
      "g_emails = []\n",
      "m_emails = []\n",
      "for email in gid.body:\n",
      "    if email != []:\n",
      "        g_emails.append({'gids': True, 'body': email['content'].encode(errors='ignore')})\n",
      "for email in mom.body:\n",
      "    if email != []:\n",
      "        m_emails.append({'gids': False, 'body': email['content'].encode(errors='ignore')})\n",
      "df = pd.DataFrame.from_records(g_emails + m_emails)"
     ],
     "language": "python",
     "metadata": {},
     "outputs": [],
     "prompt_number": 43
    },
    {
     "cell_type": "code",
     "collapsed": false,
     "input": [
      "vectorizer = CountVectorizer(min_df=5, max_df=.3, ngram_range=(1,2))\n",
      "X = vectorizer.fit_transform(df.body)\n",
      "X = X.tocsc()\n",
      "Y = df.gids.values.astype(np.int)"
     ],
     "language": "python",
     "metadata": {},
     "outputs": [],
     "prompt_number": 44
    },
    {
     "cell_type": "code",
     "collapsed": false,
     "input": [
      "ntest = int(len(df) * .7) # wrong: old emails vs new emails...\n",
      "X = [word for word in df.body.values if word] # wont return empty string\n",
      "Y = df.gids.values\n",
      "X_train = X[:-ntest]\n",
      "X_test  = X[-ntest:]\n",
      "Y_train = Y[:-ntest]\n",
      "Y_test  = Y[-ntest:]"
     ],
     "language": "python",
     "metadata": {},
     "outputs": [],
     "prompt_number": 45
    },
    {
     "cell_type": "code",
     "collapsed": false,
     "input": [
      "print X_train[3:4][0][:10] # example email"
     ],
     "language": "python",
     "metadata": {},
     "outputs": [
      {
       "output_type": "stream",
       "stream": "stdout",
       "text": [
        "Hey Jonah,\n"
       ]
      }
     ],
     "prompt_number": 46
    },
    {
     "cell_type": "code",
     "collapsed": false,
     "input": [
      "tokenizer = Tokenizer(min_df=10, max_features=50000)\n",
      "X_train = tokenizer.fit_transform(X_train)\n",
      "X_test = tokenizer.transform(X_test)\n",
      "print tokenizer.inverse_transform(trX[1:2]) #see what words are kept\n",
      "print tokenizer.n_features"
     ],
     "language": "python",
     "metadata": {},
     "outputs": [],
     "prompt_number": 57
    },
    {
     "cell_type": "code",
     "collapsed": false,
     "input": [
      "layers = [\n",
      "    Embedding(size=128, n_features=tokenizer.n_features),\n",
      "    GatedRecurrent(size=128, ),\n",
      "    Dense(size=1, activation='sigmoid', init='orthogonal')\n",
      "]\n",
      "\n",
      "model = RNN(layers=layers, cost='BinaryCrossEntropy')\n",
      "for i in range(2):\n",
      "    model.fit(X_train, Y_train, n_epochs=1)\n",
      "    tr_preds = model.predict(X_train[:len(Y_test)])\n",
      "    te_preds = model.predict(X_test)\n",
      "    \n",
      "    tr_acc = metrics.accuracy_score(Y_train[:len(Y_test)], tr_preds > 0.5)\n",
      "    te_acc = metrics.accuracy_score(Y_test, te_preds > 0.5)\n",
      "    \n",
      "    print i, tr_acc, te_acc"
     ],
     "language": "python",
     "metadata": {},
     "outputs": [
      {
       "output_type": "stream",
       "stream": "stdout",
       "text": [
        "\r",
        "Epoch 0 Seen 64 samples Avg cost 0.7019 Time left 14 seconds"
       ]
      },
      {
       "output_type": "stream",
       "stream": "stdout",
       "text": [
        "\r",
        "Epoch 0 Seen 128 samples Avg cost 0.6931 Time left 37 seconds"
       ]
      },
      {
       "output_type": "stream",
       "stream": "stdout",
       "text": [
        "\r",
        "Epoch 0 Seen 192 samples Avg cost 0.6829 Time left 30 seconds"
       ]
      },
      {
       "output_type": "stream",
       "stream": "stdout",
       "text": [
        "\r",
        "Epoch 0 Seen 256 samples Avg cost 0.6709 Time left 23 seconds"
       ]
      },
      {
       "output_type": "stream",
       "stream": "stdout",
       "text": [
        "\r",
        "Epoch 0 Seen 320 samples Avg cost 0.6583 Time left 26 seconds"
       ]
      },
      {
       "output_type": "stream",
       "stream": "stdout",
       "text": [
        "\r",
        "Epoch 0 Seen 384 samples Avg cost 0.6491 Time left 21 seconds"
       ]
      },
      {
       "output_type": "stream",
       "stream": "stdout",
       "text": [
        "\r",
        "Epoch 0 Seen 448 samples Avg cost 0.6344 Time left 20 seconds"
       ]
      },
      {
       "output_type": "stream",
       "stream": "stdout",
       "text": [
        "\r",
        "Epoch 0 Seen 512 samples Avg cost 0.6155 Time left 26 seconds"
       ]
      },
      {
       "output_type": "stream",
       "stream": "stdout",
       "text": [
        "\r",
        "Epoch 0 Seen 576 samples Avg cost 0.5933 Time left 33 seconds"
       ]
      },
      {
       "output_type": "stream",
       "stream": "stdout",
       "text": [
        "\r",
        "Epoch 0 Seen 640 samples Avg cost 0.5728 Time left 31 seconds"
       ]
      },
      {
       "output_type": "stream",
       "stream": "stdout",
       "text": [
        "\r",
        "Epoch 0 Seen 704 samples Avg cost 0.5464 Time left 38 seconds"
       ]
      },
      {
       "output_type": "stream",
       "stream": "stdout",
       "text": [
        "\r",
        "Epoch 0 Seen 768 samples Avg cost 0.5183 Time left 34 seconds"
       ]
      },
      {
       "output_type": "stream",
       "stream": "stdout",
       "text": [
        "\r",
        "Epoch 0 Seen 832 samples Avg cost 0.4982 Time left 33 seconds"
       ]
      },
      {
       "output_type": "stream",
       "stream": "stdout",
       "text": [
        "\r",
        "Epoch 0 Seen 896 samples Avg cost 0.4732 Time left 32 seconds"
       ]
      },
      {
       "output_type": "stream",
       "stream": "stdout",
       "text": [
        "\r",
        "Epoch 0 Seen 960 samples Avg cost 0.4603 Time left 31 seconds"
       ]
      },
      {
       "output_type": "stream",
       "stream": "stdout",
       "text": [
        "\r",
        "Epoch 0 Seen 1024 samples Avg cost 0.4328 Time left 28 seconds"
       ]
      },
      {
       "output_type": "stream",
       "stream": "stdout",
       "text": [
        "\r",
        "Epoch 0 Seen 1088 samples Avg cost 0.4145 Time left 26 seconds"
       ]
      },
      {
       "output_type": "stream",
       "stream": "stdout",
       "text": [
        "\r",
        "Epoch 0 Seen 1152 samples Avg cost 0.3928 Time left 23 seconds"
       ]
      },
      {
       "output_type": "stream",
       "stream": "stdout",
       "text": [
        "\r",
        "Epoch 0 Seen 1216 samples Avg cost 0.3833 Time left 22 seconds"
       ]
      },
      {
       "output_type": "stream",
       "stream": "stdout",
       "text": [
        "\r",
        "Epoch 0 Seen 1280 samples Avg cost 0.3657 Time left 19 seconds"
       ]
      },
      {
       "output_type": "stream",
       "stream": "stdout",
       "text": [
        "\r",
        "Epoch 0 Seen 1344 samples Avg cost 0.3497 Time left 17 seconds"
       ]
      },
      {
       "output_type": "stream",
       "stream": "stdout",
       "text": [
        "\r",
        "Epoch 0 Seen 1408 samples Avg cost 0.3377 Time left 16 seconds"
       ]
      },
      {
       "output_type": "stream",
       "stream": "stdout",
       "text": [
        "\r",
        "Epoch 0 Seen 1472 samples Avg cost 0.3306 Time left 15 seconds"
       ]
      },
      {
       "output_type": "stream",
       "stream": "stdout",
       "text": [
        "\r",
        "Epoch 0 Seen 1536 samples Avg cost 0.3256 Time left 13 seconds"
       ]
      },
      {
       "output_type": "stream",
       "stream": "stdout",
       "text": [
        "\r",
        "Epoch 0 Seen 1600 samples Avg cost 0.3163 Time left 10 seconds"
       ]
      },
      {
       "output_type": "stream",
       "stream": "stdout",
       "text": [
        "\r",
        "Epoch 0 Seen 1664 samples Avg cost 0.3055 Time left 8 seconds"
       ]
      },
      {
       "output_type": "stream",
       "stream": "stdout",
       "text": [
        "\r",
        "Epoch 0 Seen 1728 samples Avg cost 0.2977 Time left 7 seconds"
       ]
      },
      {
       "output_type": "stream",
       "stream": "stdout",
       "text": [
        "\r",
        "Epoch 0 Seen 1792 samples Avg cost 0.2943 Time left 5 seconds"
       ]
      },
      {
       "output_type": "stream",
       "stream": "stdout",
       "text": [
        "\r",
        "Epoch 0 Seen 1856 samples Avg cost 0.2924 Time left 4 seconds"
       ]
      },
      {
       "output_type": "stream",
       "stream": "stdout",
       "text": [
        "\r",
        "Epoch 0 Seen 1887 samples Avg cost 0.2892 Time left 3 seconds"
       ]
      },
      {
       "output_type": "stream",
       "stream": "stdout",
       "text": [
        "\r",
        "Epoch 0 Seen 1951 samples Avg cost 0.2857 Time left 1 seconds"
       ]
      },
      {
       "output_type": "stream",
       "stream": "stdout",
       "text": [
        "\r",
        "Epoch 0 Seen 2015 samples Avg cost 0.2800 Time left 55 seconds"
       ]
      },
      {
       "output_type": "stream",
       "stream": "stdout",
       "text": [
        "\r",
        "Epoch 0 Seen 2015 samples Avg cost 0.2800 Time elapsed 55 seconds"
       ]
      },
      {
       "output_type": "stream",
       "stream": "stdout",
       "text": [
        "\n",
        "0"
       ]
      },
      {
       "output_type": "stream",
       "stream": "stdout",
       "text": [
        " 0.960209881941 0.0\n",
        "\r",
        "Epoch 0 Seen 64 samples Avg cost 0.1444 Time left 43 seconds"
       ]
      },
      {
       "output_type": "stream",
       "stream": "stdout",
       "text": [
        "\r",
        "Epoch 0 Seen 128 samples Avg cost 0.1266 Time left 53 seconds"
       ]
      },
      {
       "output_type": "stream",
       "stream": "stdout",
       "text": [
        "\r",
        "Epoch 0 Seen 192 samples Avg cost 0.1418 Time left 44 seconds"
       ]
      },
      {
       "output_type": "stream",
       "stream": "stdout",
       "text": [
        "\r",
        "Epoch 0 Seen 256 samples Avg cost 0.1467 Time left 50 seconds"
       ]
      },
      {
       "output_type": "stream",
       "stream": "stdout",
       "text": [
        "\r",
        "Epoch 0 Seen 320 samples Avg cost 0.1466 Time left 63 seconds"
       ]
      },
      {
       "output_type": "stream",
       "stream": "stdout",
       "text": [
        "\r",
        "Epoch 0 Seen 384 samples Avg cost 0.1318 Time left 52 seconds"
       ]
      },
      {
       "output_type": "stream",
       "stream": "stdout",
       "text": [
        "\r",
        "Epoch 0 Seen 448 samples Avg cost 0.1458 Time left 52 seconds"
       ]
      },
      {
       "output_type": "stream",
       "stream": "stdout",
       "text": [
        "\r",
        "Epoch 0 Seen 512 samples Avg cost 0.1373 Time left 45 seconds"
       ]
      },
      {
       "output_type": "stream",
       "stream": "stdout",
       "text": [
        "\r",
        "Epoch 0 Seen 576 samples Avg cost 0.1257 Time left 38 seconds"
       ]
      },
      {
       "output_type": "stream",
       "stream": "stdout",
       "text": [
        "\r",
        "Epoch 0 Seen 640 samples Avg cost 0.1228 Time left 34 seconds"
       ]
      },
      {
       "output_type": "stream",
       "stream": "stdout",
       "text": [
        "\r",
        "Epoch 0 Seen 704 samples Avg cost 0.1160 Time left 30 seconds"
       ]
      },
      {
       "output_type": "stream",
       "stream": "stdout",
       "text": [
        "\r",
        "Epoch 0 Seen 768 samples Avg cost 0.1233 Time left 34 seconds"
       ]
      },
      {
       "output_type": "stream",
       "stream": "stdout",
       "text": [
        "\r",
        "Epoch 0 Seen 832 samples Avg cost 0.1203 Time left 32 seconds"
       ]
      },
      {
       "output_type": "stream",
       "stream": "stdout",
       "text": [
        "\r",
        "Epoch 0 Seen 896 samples Avg cost 0.1137 Time left 29 seconds"
       ]
      },
      {
       "output_type": "stream",
       "stream": "stdout",
       "text": [
        "\r",
        "Epoch 0 Seen 960 samples Avg cost 0.1077 Time left 29 seconds"
       ]
      },
      {
       "output_type": "stream",
       "stream": "stdout",
       "text": [
        "\r",
        "Epoch 0 Seen 1024 samples Avg cost 0.1133 Time left 29 seconds"
       ]
      },
      {
       "output_type": "stream",
       "stream": "stdout",
       "text": [
        "\r",
        "Epoch 0 Seen 1088 samples Avg cost 0.1125 Time left 26 seconds"
       ]
      },
      {
       "output_type": "stream",
       "stream": "stdout",
       "text": [
        "\r",
        "Epoch 0 Seen 1152 samples Avg cost 0.1166 Time left 23 seconds"
       ]
      },
      {
       "output_type": "stream",
       "stream": "stdout",
       "text": [
        "\r",
        "Epoch 0 Seen 1216 samples Avg cost 0.1236 Time left 21 seconds"
       ]
      },
      {
       "output_type": "stream",
       "stream": "stdout",
       "text": [
        "\r",
        "Epoch 0 Seen 1280 samples Avg cost 0.1307 Time left 19 seconds"
       ]
      },
      {
       "output_type": "stream",
       "stream": "stdout",
       "text": [
        "\r",
        "Epoch 0 Seen 1344 samples Avg cost 0.1342 Time left 19 seconds"
       ]
      },
      {
       "output_type": "stream",
       "stream": "stdout",
       "text": [
        "\r",
        "Epoch 0 Seen 1408 samples Avg cost 0.1293 Time left 16 seconds"
       ]
      },
      {
       "output_type": "stream",
       "stream": "stdout",
       "text": [
        "\r",
        "Epoch 0 Seen 1472 samples Avg cost 0.1310 Time left 14 seconds"
       ]
      },
      {
       "output_type": "stream",
       "stream": "stdout",
       "text": [
        "\r",
        "Epoch 0 Seen 1536 samples Avg cost 0.1287 Time left 13 seconds"
       ]
      },
      {
       "output_type": "stream",
       "stream": "stdout",
       "text": [
        "\r",
        "Epoch 0 Seen 1600 samples Avg cost 0.1261 Time left 10 seconds"
       ]
      },
      {
       "output_type": "stream",
       "stream": "stdout",
       "text": [
        "\r",
        "Epoch 0 Seen 1664 samples Avg cost 0.1249 Time left 9 seconds"
       ]
      },
      {
       "output_type": "stream",
       "stream": "stdout",
       "text": [
        "\r",
        "Epoch 0 Seen 1728 samples Avg cost 0.1266 Time left 7 seconds"
       ]
      },
      {
       "output_type": "stream",
       "stream": "stdout",
       "text": [
        "\r",
        "Epoch 0 Seen 1792 samples Avg cost 0.1237 Time left 5 seconds"
       ]
      },
      {
       "output_type": "stream",
       "stream": "stdout",
       "text": [
        "\r",
        "Epoch 0 Seen 1856 samples Avg cost 0.1263 Time left 4 seconds"
       ]
      },
      {
       "output_type": "stream",
       "stream": "stdout",
       "text": [
        "\r",
        "Epoch 0 Seen 1920 samples Avg cost 0.1244 Time left 2 seconds"
       ]
      },
      {
       "output_type": "stream",
       "stream": "stdout",
       "text": [
        "\r",
        "Epoch 0 Seen 1951 samples Avg cost 0.1224 Time left 1 seconds"
       ]
      },
      {
       "output_type": "stream",
       "stream": "stdout",
       "text": [
        "\r",
        "Epoch 0 Seen 2015 samples Avg cost 0.1200 Time left 54 seconds"
       ]
      },
      {
       "output_type": "stream",
       "stream": "stdout",
       "text": [
        "\r",
        "Epoch 0 Seen 2015 samples Avg cost 0.1200 Time elapsed 54 seconds"
       ]
      },
      {
       "output_type": "stream",
       "stream": "stdout",
       "text": [
        "\n",
        "1"
       ]
      },
      {
       "output_type": "stream",
       "stream": "stdout",
       "text": [
        " 0.969392216878 0.147488755622\n"
       ]
      }
     ],
     "prompt_number": 54
    },
    {
     "cell_type": "code",
     "collapsed": false,
     "input": [
      "save(model, 'save_test_2_22.pkl')"
     ],
     "language": "python",
     "metadata": {},
     "outputs": [],
     "prompt_number": 55
    },
    {
     "cell_type": "code",
     "collapsed": false,
     "input": [
      "pd.read_pickle('save_test_2_22.pkl')"
     ],
     "language": "python",
     "metadata": {},
     "outputs": [
      {
       "metadata": {},
       "output_type": "pyout",
       "prompt_number": 56,
       "text": [
        "{'config': {'Y': <TensorType(float64, matrix)>,\n",
        "  'cost': 'BinaryCrossEntropy',\n",
        "  'iterator': 'SortedPadded',\n",
        "  'layers': [{'config': {'init': 'uniform',\n",
        "     'n_features': 3139,\n",
        "     'size': 128,\n",
        "     'weights': [array([[ 0.02037133,  0.05500918, -0.03553569, ..., -0.05092033,\n",
        "              -0.01153916, -0.0113152 ],\n",
        "             [ 0.02760418,  0.0141754 ,  0.03989907, ..., -0.01781544,\n",
        "              -0.012089  , -0.01342484],\n",
        "             [-0.02112448,  0.02846236,  0.03938243, ..., -0.0063895 ,\n",
        "               0.01421936,  0.0494742 ],\n",
        "             ..., \n",
        "             [-0.03711308,  0.04677702,  0.0474034 , ..., -0.0235194 ,\n",
        "              -0.00455649,  0.03780458],\n",
        "             [-0.03189454,  0.00708208,  0.04155696, ..., -0.0197058 ,\n",
        "              -0.02078519,  0.00768896],\n",
        "             [-0.03763691, -0.04821953, -0.00676626, ..., -0.0427743 ,\n",
        "               0.00480013,  0.02118167]])]},\n",
        "    'layer': 'Embedding'},\n",
        "   {'config': {'activation': 'tanh',\n",
        "     'gate_activation': 'steeper_sigmoid',\n",
        "     'init': 'orthogonal',\n",
        "     'p_drop': 0.0,\n",
        "     'seq_output': False,\n",
        "     'size': 128,\n",
        "     'truncate_gradient': -1,\n",
        "     'weights': [array([[ -1.27465703e-02,   1.96302870e-03,  -6.53144242e-03,\n",
        "                9.07435488e-03,   1.54148711e-02,  -7.78434241e-03,\n",
        "                1.43301633e-03,   1.30019106e-02,   1.27339876e-02,\n",
        "               -9.30901414e-03,   9.96037753e-03,   3.77415349e-03,\n",
        "               -9.62419767e-03,   4.65737486e-03,  -6.38980947e-03,\n",
        "               -1.56901496e-02,  -1.06739809e-02,  -1.56800134e-02,\n",
        "                9.50249915e-03,   1.46435764e-02,   1.47245762e-02,\n",
        "                2.13931800e-03,  -8.24886119e-03,   1.11482565e-02,\n",
        "               -1.30371641e-02,   5.40998574e-03,  -7.09103977e-03,\n",
        "                1.43504241e-02,  -1.29767102e-03,  -1.47906195e-02,\n",
        "               -1.32991517e-02,  -1.23926466e-02,   9.75015618e-03,\n",
        "                1.31309075e-02,  -1.17806380e-02,  -4.01978102e-03,\n",
        "                3.78707201e-04,  -9.42747950e-03,   1.09988398e-02,\n",
        "               -1.19159579e-02,   9.03609507e-03,  -2.12106245e-03,\n",
        "               -5.93158504e-03,   1.34143504e-02,   1.55345140e-02,\n",
        "                8.71266328e-03,  -7.31806081e-03,   1.14260813e-02,\n",
        "                7.99430489e-03,  -1.06287947e-02,   9.72953671e-03,\n",
        "               -3.96577270e-03,   5.37381347e-03,  -9.52461239e-03,\n",
        "                1.34018801e-02,   4.70781161e-03,   1.32662832e-02,\n",
        "                9.48461833e-03,  -1.06362736e-02,  -1.51460262e-02,\n",
        "               -1.56967297e-03,   1.18685999e-02,   1.53971781e-02,\n",
        "                1.29982731e-02,  -1.53851320e-03,   4.17702535e-03,\n",
        "                1.23670593e-02,  -9.58767828e-04,   7.13590391e-04,\n",
        "               -1.48692672e-02,   7.57901653e-03,   9.68899407e-03,\n",
        "               -1.27406995e-02,  -1.69731900e-04,   1.91682495e-02,\n",
        "               -7.32100595e-03,   1.50012440e-02,  -8.02290352e-03,\n",
        "                7.88511910e-03,   1.26195177e-02,  -1.82457908e-03,\n",
        "               -4.08085160e-03,   1.32514614e-02,  -7.27779371e-03,\n",
        "                9.09940950e-03,  -8.29430485e-03,   1.28612392e-02,\n",
        "               -7.25857065e-03,   1.34650242e-02,  -1.15020209e-02,\n",
        "               -1.21517571e-02,   9.22622344e-03,   1.39789242e-02,\n",
        "               -1.94300686e-03,  -7.10278821e-03,   1.45249499e-03,\n",
        "                1.15604941e-02,  -1.25986136e-02,  -9.41637301e-03,\n",
        "               -2.63139439e-03,  -1.61833312e-02,  -1.23988762e-04,\n",
        "                1.30570626e-02,  -1.37092966e-02,  -1.47878786e-02,\n",
        "               -3.89338553e-03,   9.92255630e-03,   2.16656900e-03,\n",
        "               -8.58310134e-03,  -1.33412447e-04,   1.63538910e-02,\n",
        "               -7.23005305e-03,  -1.53882467e-02,   5.69126908e-05,\n",
        "                1.62686987e-02,   9.46932607e-03,  -3.39149018e-03,\n",
        "               -3.31265819e-03,  -1.52382958e-02,  -9.19216796e-03,\n",
        "               -1.77010363e-02,  -4.98957066e-03,  -1.38063442e-02,\n",
        "               -1.13685379e-02,  -6.66043733e-03,  -1.52570347e-02,\n",
        "               -1.03940930e-02,  -1.34395547e-02]]),\n",
        "      array([[ 0.17560291,  0.08813024, -0.18533876, ..., -0.0506016 ,\n",
        "               0.04142906,  0.1297309 ],\n",
        "             [-0.01246673,  0.06566625, -0.06694694, ..., -0.04170186,\n",
        "              -0.01920703,  0.01833861],\n",
        "             [-0.04475594, -0.00386333, -0.00427696, ..., -0.05550096,\n",
        "              -0.0767942 ,  0.1702497 ],\n",
        "             ..., \n",
        "             [ 0.02263618,  0.10884418, -0.01065451, ...,  0.11355001,\n",
        "              -0.03096626, -0.05121846],\n",
        "             [ 0.07932367,  0.09269528, -0.22894612, ...,  0.2309452 ,\n",
        "               0.05777191, -0.07323789],\n",
        "             [ 0.06746934,  0.16771774,  0.07218153, ..., -0.01394161,\n",
        "              -0.04117565, -0.07839033]]),\n",
        "      array([[-0.05722612,  0.0276042 , -0.04491048, ..., -0.0137007 ,\n",
        "               0.00511926,  0.05952269],\n",
        "             [ 0.01951129,  0.03793924, -0.12867442, ...,  0.07444788,\n",
        "               0.08725028, -0.06985525],\n",
        "             [-0.03161391, -0.00269676, -0.00909523, ..., -0.03378582,\n",
        "              -0.22893306,  0.111738  ],\n",
        "             ..., \n",
        "             [ 0.07639622,  0.00979828,  0.00523027, ...,  0.11027939,\n",
        "              -0.01745686, -0.06380254],\n",
        "             [ 0.07857288, -0.13120941,  0.21788875, ...,  0.12742622,\n",
        "              -0.04651516, -0.09218339],\n",
        "             [-0.06182552, -0.02972557,  0.12225012, ..., -0.01179164,\n",
        "               0.10965794,  0.1065116 ]]),\n",
        "      array([[-0.07640544, -0.0272951 ,  0.07736538, ...,  0.18071136,\n",
        "               0.15198468,  0.02424423],\n",
        "             [ 0.10323301, -0.1928999 , -0.1624401 , ..., -0.05330064,\n",
        "               0.03117474, -0.08636406],\n",
        "             [ 0.05930015, -0.11177792,  0.19579893, ...,  0.11564672,\n",
        "              -0.02378485, -0.0156505 ],\n",
        "             ..., \n",
        "             [-0.08862761,  0.08963145, -0.03218234, ...,  0.11678061,\n",
        "               0.1059202 ,  0.13138027],\n",
        "             [ 0.06315691,  0.15968361,  0.10878195, ..., -0.01059025,\n",
        "              -0.02356972,  0.11134195],\n",
        "             [ 0.07810321, -0.0151589 ,  0.04047246, ..., -0.08534384,\n",
        "               0.24478628,  0.09054364]]),\n",
        "      array([[ 0.05358751,  0.18209438, -0.08159908, ...,  0.02893445,\n",
        "              -0.03458619, -0.00932962],\n",
        "             [ 0.0060975 , -0.23937757, -0.06300682, ...,  0.11621244,\n",
        "               0.04832981,  0.01363386],\n",
        "             [-0.07089243,  0.00263005,  0.08660829, ..., -0.19920045,\n",
        "              -0.0821612 , -0.0041584 ],\n",
        "             ..., \n",
        "             [-0.03443655, -0.0794111 ,  0.09428528, ...,  0.09548343,\n",
        "               0.10136009, -0.02932995],\n",
        "             [ 0.03871468, -0.09578522,  0.04558122, ..., -0.09589936,\n",
        "               0.02913406, -0.05387081],\n",
        "             [ 0.0108651 , -0.08598547, -0.08125667, ..., -0.08237435,\n",
        "              -0.03768008, -0.03714232]]),\n",
        "      array([[ 0.04291822,  0.11654037,  0.12510836, ..., -0.00818138,\n",
        "              -0.22054096, -0.06846526],\n",
        "             [ 0.12617359,  0.00315535,  0.02081761, ..., -0.13211751,\n",
        "               0.09649165,  0.19075057],\n",
        "             [-0.05548452, -0.09092748, -0.23201069, ..., -0.00810402,\n",
        "              -0.02419803, -0.06847816],\n",
        "             ..., \n",
        "             [-0.23114575, -0.00216612, -0.13184949, ..., -0.06948987,\n",
        "              -0.02780553, -0.02398788],\n",
        "             [-0.00646388,  0.26742971, -0.0825878 , ...,  0.06449679,\n",
        "              -0.01080759, -0.08726767],\n",
        "             [-0.14557306, -0.02072122, -0.08204793, ..., -0.16475436,\n",
        "               0.07057071, -0.05584962]]),\n",
        "      array([[ 0.02197094,  0.02750925, -0.08667198, ...,  0.09046165,\n",
        "               0.12561736, -0.01419612],\n",
        "             [-0.19393842,  0.17678242, -0.13667807, ...,  0.00599933,\n",
        "              -0.0557499 ,  0.20208596],\n",
        "             [-0.06873032,  0.02034839, -0.10014429, ...,  0.02313625,\n",
        "               0.07598415,  0.07801197],\n",
        "             ..., \n",
        "             [-0.03814308,  0.0152142 , -0.10884593, ...,  0.20586538,\n",
        "               0.03953333,  0.03945122],\n",
        "             [ 0.1059099 ,  0.06650659, -0.06059413, ..., -0.15500716,\n",
        "              -0.11268227,  0.0239794 ],\n",
        "             [-0.00335388, -0.05514212, -0.13238468, ..., -0.19654141,\n",
        "               0.07596895,  0.0122484 ]]),\n",
        "      array([  1.97563303e-02,   2.38579043e-02,  -2.38468160e-02,\n",
        "               9.14716811e-03,   3.10727536e-02,  -2.69449952e-02,\n",
        "              -2.76286487e-02,  -1.89599582e-02,  -1.24845120e-02,\n",
        "               2.57395143e-03,  -3.80314280e-04,  -2.05412727e-02,\n",
        "              -2.60193403e-03,  -1.09101143e-02,  -2.48924468e-02,\n",
        "              -2.89244251e-02,  -2.89083609e-02,  -6.40430240e-03,\n",
        "              -1.76833588e-02,  -2.44325554e-03,  -1.74946018e-02,\n",
        "              -2.37684900e-02,  -2.73453817e-02,  -2.01152951e-02,\n",
        "              -1.69221113e-02,  -2.57230572e-02,  -1.39872301e-02,\n",
        "               2.51517003e-02,  -2.28535514e-02,  -1.89586383e-02,\n",
        "               1.87656580e-02,  -1.75542052e-02,  -2.74458498e-02,\n",
        "              -2.26255431e-02,  -1.35263076e-02,  -8.31632634e-03,\n",
        "               3.34486398e-02,  -2.42365385e-02,   6.31156804e-03,\n",
        "              -2.27249496e-02,  -2.83280401e-02,  -2.24357952e-02,\n",
        "               7.97676692e-03,  -2.28911560e-02,   2.49736468e-02,\n",
        "               6.44840832e-03,  -5.44504411e-03,   2.17105010e-02,\n",
        "              -8.48124064e-03,  -2.37111158e-02,  -1.45606866e-02,\n",
        "               1.46771163e-02,  -2.66132435e-02,  -1.42966949e-02,\n",
        "              -4.19534857e-03,  -2.15489453e-02,  -2.88443880e-02,\n",
        "               2.50073407e-02,  -1.45253822e-02,  -2.24604892e-02,\n",
        "              -2.73427658e-02,  -2.53609916e-02,   2.24123906e-02,\n",
        "              -7.53272679e-03,   9.19629073e-03,   6.80876510e-03,\n",
        "              -2.11533042e-02,   1.25934229e-02,  -2.03853180e-02,\n",
        "              -3.28893584e-03,   9.04538122e-03,   3.83899198e-03,\n",
        "               2.63113151e-05,  -2.47746842e-02,   3.45948714e-02,\n",
        "              -9.14288029e-03,   1.49501661e-02,  -2.32115769e-02,\n",
        "              -2.39544588e-02,  -1.12474746e-02,  -1.21963008e-02,\n",
        "              -2.35642205e-03,   9.75329359e-03,  -2.55868994e-02,\n",
        "              -4.73096102e-03,  -1.91703850e-02,  -1.45849262e-02,\n",
        "              -2.47663087e-02,   1.13596552e-02,  -2.30555529e-02,\n",
        "               2.35172335e-03,  -3.05902217e-02,   1.68365581e-02,\n",
        "              -2.49911693e-02,  -2.09209141e-02,   1.74576206e-02,\n",
        "              -1.32575892e-02,  -3.23330875e-02,  -1.47544842e-02,\n",
        "              -2.00921861e-02,  -3.68808305e-03,  -1.89779069e-02,\n",
        "              -2.33309135e-02,  -1.43691050e-02,  -2.05469435e-02,\n",
        "              -2.29653939e-02,  -1.66372631e-02,  -1.66009519e-02,\n",
        "              -6.77129130e-04,  -2.65779654e-02,  -4.89109891e-04,\n",
        "              -2.65712092e-02,  -6.92409065e-03,   1.33178363e-02,\n",
        "              -2.36953060e-02,   9.43022305e-03,   8.51313848e-03,\n",
        "               1.98594179e-02,  -1.62368214e-02,   2.90349345e-02,\n",
        "               1.83033283e-02,  -1.92312837e-02,  -2.52493541e-02,\n",
        "               1.19439037e-02,  -2.59182940e-02,  -2.30424210e-02,\n",
        "              -2.49961565e-02,  -9.33679798e-03]),\n",
        "      array([ 0.00703603,  0.00546465,  0.01793873,  0.0174619 ,  0.03207157,\n",
        "              0.01704136,  0.0155759 ,  0.00121336,  0.00578412,  0.00644073,\n",
        "              0.00419345,  0.00823151,  0.00050851,  0.0093032 , -0.01349793,\n",
        "              0.02347173,  0.01811567,  0.00255693,  0.00355952,  0.03670363,\n",
        "              0.01750616,  0.01202919,  0.0050994 ,  0.01971776,  0.02389943,\n",
        "             -0.00130051,  0.00643427,  0.02432055, -0.01086173,  0.00377168,\n",
        "             -0.02024732,  0.00791558, -0.00754753,  0.01745945, -0.00024125,\n",
        "             -0.02638103, -0.01305446, -0.00121925, -0.01626396,  0.01634974,\n",
        "              0.01112639,  0.00526136,  0.00570628, -0.00804714,  0.02311264,\n",
        "             -0.00703486, -0.00240358,  0.01776939,  0.01857293, -0.01037045,\n",
        "             -0.01882535,  0.01419926,  0.00816844, -0.00875956,  0.01515282,\n",
        "             -0.02571556,  0.01908023,  0.00030045, -0.00622411,  0.00852205,\n",
        "              0.0214927 ,  0.00949851,  0.01406929, -0.00860667,  0.00614928,\n",
        "              0.01381787,  0.01124951, -0.01962151,  0.01055989, -0.00327587,\n",
        "             -0.0195246 ,  0.0020316 , -0.0210063 , -0.00495756,  0.00315387,\n",
        "              0.0020419 , -0.00480005,  0.01208124, -0.01417083,  0.00833438,\n",
        "              0.0149711 ,  0.01895652,  0.01504438,  0.01153188,  0.01815479,\n",
        "             -0.0181559 ,  0.00058489,  0.01420616,  0.00950852, -0.00094894,\n",
        "              0.02636904,  0.01955141,  0.02067138, -0.02123028, -0.01374601,\n",
        "             -0.00829614,  0.02915561,  0.00714678,  0.01881442,  0.01544875,\n",
        "              0.02077027,  0.00643892,  0.0205319 ,  0.00428943, -0.01036626,\n",
        "              0.00706483,  0.00478297,  0.00695257,  0.01507624,  0.01665882,\n",
        "              0.02371741,  0.01547861,  0.00972226, -0.00097566, -0.00927788,\n",
        "             -0.00650053, -0.00334484, -0.01497365,  0.02360098,  0.02021747,\n",
        "             -0.01287109,  0.03165947,  0.00687772,  0.00493322,  0.00207638,\n",
        "             -0.00759267,  0.01595883,  0.03268921]),\n",
        "      array([-0.02232703, -0.0040412 ,  0.02182485,  0.02042419, -0.0013648 ,\n",
        "             -0.01730068, -0.02336203, -0.00747955,  0.02091043, -0.01323484,\n",
        "             -0.02137557, -0.01900457,  0.02272853, -0.02172744, -0.01877552,\n",
        "             -0.02020533, -0.01516904,  0.00966384,  0.02311179,  0.00627426,\n",
        "              0.01827567,  0.02529195, -0.02284644,  0.02297644,  0.02388339,\n",
        "              0.02468145,  0.02060599,  0.0198684 , -0.02414325, -0.0220412 ,\n",
        "              0.02169173,  0.02159281,  0.02434245,  0.02091125, -0.0225454 ,\n",
        "             -0.00679897,  0.02020949, -0.02166303,  0.02255351, -0.02235057,\n",
        "              0.02394569, -0.02081434,  0.00165007,  0.01812442,  0.01703636,\n",
        "              0.00960473,  0.01832101,  0.02134225,  0.0121628 , -0.02288341,\n",
        "              0.01668352,  0.02004853,  0.0212268 ,  0.02607924,  0.02192086,\n",
        "             -0.02331423,  0.02077585,  0.01696547,  0.02127234, -0.01042837,\n",
        "             -0.0233754 ,  0.02294056,  0.01566353, -0.02687696,  0.02389228,\n",
        "              0.01896567,  0.02081429,  0.00991395,  0.0208873 ,  0.02135669,\n",
        "             -0.02020603,  0.02345239,  0.02411274, -0.02379639,  0.01114887,\n",
        "             -0.01763235,  0.02022506, -0.02469223, -0.01692289,  0.02227194,\n",
        "              0.02294591, -0.02193839,  0.02280872, -0.02102874,  0.02042432,\n",
        "             -0.02066154,  0.02252343, -0.02237458, -0.00278579, -0.02172409,\n",
        "             -0.01992121,  0.0212591 ,  0.01844245,  0.02001498, -0.02693108,\n",
        "              0.01944487,  0.01086195, -0.01977859, -0.02235753,  0.02264274,\n",
        "             -0.02062922, -0.019421  , -0.02357636,  0.02539306, -0.02143993,\n",
        "              0.01799213,  0.02259429, -0.02264463, -0.02217981,  0.0273025 ,\n",
        "              0.01931507, -0.02257198, -0.02316482,  0.01636267, -0.02322905,\n",
        "              0.01846982,  0.01162519, -0.01978407, -0.02075264, -0.02043165,\n",
        "              0.01896059,  0.01675231, -0.02197712, -0.02268712, -0.02113568,\n",
        "             -0.02217997, -0.02290882, -0.01909646])]},\n",
        "    'layer': 'GatedRecurrent'},\n",
        "   {'config': {'activation': 'sigmoid',\n",
        "     'init': 'orthogonal',\n",
        "     'p_drop': 0.0,\n",
        "     'size': 1,\n",
        "     'weights': [array([[-0.08047898],\n",
        "             [-0.02254101],\n",
        "             [ 0.12212095],\n",
        "             [ 0.02506351],\n",
        "             [-0.10120163],\n",
        "             [-0.02648465],\n",
        "             [-0.13362567],\n",
        "             [-0.19275697],\n",
        "             [ 0.07834565],\n",
        "             [-0.00584549],\n",
        "             [-0.11561056],\n",
        "             [-0.10201966],\n",
        "             [ 0.09623882],\n",
        "             [-0.06451054],\n",
        "             [ 0.09312835],\n",
        "             [ 0.03227186],\n",
        "             [ 0.02139182],\n",
        "             [ 0.08000846],\n",
        "             [ 0.06004801],\n",
        "             [-0.00769094],\n",
        "             [ 0.03633987],\n",
        "             [ 0.12325486],\n",
        "             [ 0.01068408],\n",
        "             [ 0.01048095],\n",
        "             [ 0.11197798],\n",
        "             [ 0.13489673],\n",
        "             [-0.03559481],\n",
        "             [ 0.10965353],\n",
        "             [-0.15861136],\n",
        "             [-0.20146781],\n",
        "             [ 0.13288908],\n",
        "             [ 0.20117566],\n",
        "             [ 0.2069082 ],\n",
        "             [-0.04419811],\n",
        "             [-0.31058432],\n",
        "             [ 0.03526544],\n",
        "             [ 0.02335364],\n",
        "             [-0.11400118],\n",
        "             [-0.07902425],\n",
        "             [-0.12424755],\n",
        "             [ 0.0848616 ],\n",
        "             [-0.16843953],\n",
        "             [ 0.0137595 ],\n",
        "             [ 0.17473496],\n",
        "             [ 0.09957377],\n",
        "             [-0.08075629],\n",
        "             [-0.02282258],\n",
        "             [ 0.11478114],\n",
        "             [-0.06970943],\n",
        "             [-0.25766858],\n",
        "             [-0.08195138],\n",
        "             [ 0.08280591],\n",
        "             [-0.06019461],\n",
        "             [ 0.09707826],\n",
        "             [ 0.13397585],\n",
        "             [-0.13048714],\n",
        "             [ 0.07043169],\n",
        "             [ 0.06685305],\n",
        "             [ 0.06548643],\n",
        "             [-0.02787153],\n",
        "             [-0.1297997 ],\n",
        "             [ 0.09450076],\n",
        "             [ 0.06869258],\n",
        "             [-0.05833517],\n",
        "             [ 0.15588028],\n",
        "             [-0.00089652],\n",
        "             [ 0.0568527 ],\n",
        "             [ 0.07793165],\n",
        "             [ 0.06870364],\n",
        "             [ 0.1101998 ],\n",
        "             [-0.02686816],\n",
        "             [-0.02707073],\n",
        "             [ 0.13081401],\n",
        "             [ 0.11594736],\n",
        "             [ 0.01594925],\n",
        "             [ 0.04828417],\n",
        "             [ 0.11113888],\n",
        "             [-0.0500271 ],\n",
        "             [-0.1469162 ],\n",
        "             [ 0.17711309],\n",
        "             [ 0.21916193],\n",
        "             [ 0.03719966],\n",
        "             [ 0.13671192],\n",
        "             [-0.00379299],\n",
        "             [ 0.06024336],\n",
        "             [-0.12995421],\n",
        "             [ 0.12181412],\n",
        "             [-0.05682959],\n",
        "             [-0.06454673],\n",
        "             [-0.04638852],\n",
        "             [ 0.02182036],\n",
        "             [ 0.03800528],\n",
        "             [-0.05225991],\n",
        "             [ 0.07287014],\n",
        "             [-0.07518301],\n",
        "             [ 0.05899246],\n",
        "             [-0.03010518],\n",
        "             [-0.02012257],\n",
        "             [-0.01807296],\n",
        "             [ 0.15848612],\n",
        "             [-0.09967527],\n",
        "             [-0.09705361],\n",
        "             [-0.23570113],\n",
        "             [ 0.09678232],\n",
        "             [-0.28346092],\n",
        "             [ 0.04481137],\n",
        "             [ 0.05394175],\n",
        "             [-0.13045377],\n",
        "             [-0.11862665],\n",
        "             [ 0.03082851],\n",
        "             [-0.01564823],\n",
        "             [-0.1463366 ],\n",
        "             [-0.06265273],\n",
        "             [ 0.02357197],\n",
        "             [-0.10020965],\n",
        "             [-0.03694137],\n",
        "             [ 0.07842852],\n",
        "             [ 0.03251545],\n",
        "             [-0.09314882],\n",
        "             [-0.01060909],\n",
        "             [ 0.13881629],\n",
        "             [ 0.03304622],\n",
        "             [-0.09329612],\n",
        "             [-0.01533127],\n",
        "             [-0.17143862],\n",
        "             [-0.10456057],\n",
        "             [-0.0046574 ],\n",
        "             [-0.04910172]]), array([ 0.02191114])]},\n",
        "    'layer': 'Dense'}],\n",
        "  'updater': 'Adam',\n",
        "  'verbose': 2},\n",
        " 'model': 'RNN'}"
       ]
      }
     ],
     "prompt_number": 56
    }
   ],
   "metadata": {}
  }
 ]
}